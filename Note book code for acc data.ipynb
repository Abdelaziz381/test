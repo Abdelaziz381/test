{
 "cells": [
  {
   "cell_type": "markdown",
   "id": "b5e6dc50",
   "metadata": {},
   "source": [
    "# Data analysis for a  pharmacy supplies company\n",
    "\n",
    "## Table of Contents\n",
    "<ul>\n",
    "<li><a href=\"#intro\">Introduction</a></li>\n",
    "<li><a href=\"#wrangling1\">Data Wrangling *1*</a></li>\n",
    "<li><a href=\"#assessing1\">Data Assessing *1*</a></li>\n",
    "<li><a href=\"#cleaning\">Data Cleaning</a></li> \n",
    "<li><a href=\"#assessing2\">Data Assessing *2*</a></li>\n",
    "<li><a href=\"#wrangling2\">Data Wrangling *2*</a></li>    \n",
    "</ul>\n"
   ]
  },
  {
   "cell_type": "markdown",
   "id": "084a4fb8",
   "metadata": {},
   "source": [
    "<a id='intro'></a>\n",
    "## Introduction\n",
    " This data set contains 4 sheets of data from company working in the field of medical supplies\n",
    " \n",
    "the products sheet columns :  DATE_ , ClintName , AccountId , ProductName , ProductId , CompanyId , CATEGORY1 , CATEGORY3 , InvoicesId , UnitSellPrice , ConsumerPrice , CostPrice , QTY.\n",
    "\n",
    "the Proprties sheet columns : PROPRTIES_ID , PROPRTIES_NAME , PROPRTIES_TYPE.\n",
    "\n",
    "the company sheet columns :\tCOP_ID , COP_NAME.\n",
    "\n",
    "the account sheet columns :\tCLIENT_NAME , CLIENT_ID , LOCATION_ID , LOCATION_NAME .\n",
    "\n",
    "\n",
    "## In Products\n",
    "category1 is the main category & category3 is the subcategory ids ... \n",
    "CompanyId is manufactureid , consumer price is the suggested selling price per piece ... which will give us a good point of view about the retailer sales .\n",
    "\n",
    "## In Proprties\n",
    "the proprties name is for both the category and subcategory and propeties type's job is to clarify the that it`s category or subcategory.\n",
    "\n",
    "## In Companies \n",
    "the COP_NAME is the manufacture name"
   ]
  },
  {
   "cell_type": "markdown",
   "id": "95009376",
   "metadata": {},
   "source": [
    "**Let's start**"
   ]
  },
  {
   "cell_type": "markdown",
   "id": "fff69271",
   "metadata": {},
   "source": [
    "### Question(s) for Analysis\n",
    "The first step is to call the libraries see the head for each data ,the form of each the data ,The next step is to describe the data , display data information, key factor of data then we merge all the four sheets in one dataframe."
   ]
  },
  {
   "cell_type": "code",
   "execution_count": 1,
   "id": "6c63fbde",
   "metadata": {},
   "outputs": [],
   "source": [
    "import pandas as pd\n",
    "import numpy as np\n",
    "import matplotlib.pyplot as plt\n",
    "%matplotlib inline\n",
    "import seaborn as snb\n",
    "from matplotlib import pyplot as plt\n",
    "\n",
    "df= pd.read_excel(r'C:\\Users\\abdel\\Untitled Folder\\Invoices and products.xlsx')\n",
    "prop = pd.read_excel(r'C:\\Users\\abdel\\Untitled Folder\\proprties.xlsx')\n",
    "comp = pd.read_excel(r'C:\\Users\\abdel\\Untitled Folder\\company.xlsx')\n",
    "AccRegion = pd.read_excel(r'C:\\Users\\abdel\\Untitled Folder\\account & region.xlsx')"
   ]
  },
  {
   "cell_type": "markdown",
   "id": "759f5b13",
   "metadata": {},
   "source": [
    "<a id='wrangling1'></a>\n",
    "## Data Wrangling **1**\n",
    "\n",
    " In this section of the report, you will load in the data, check for cleanliness, and then trim and clean our dataset for analysis.\n",
    "\n",
    "### General Properties\n",
    "The second step of the data path"
   ]
  },
  {
   "cell_type": "markdown",
   "id": "f1e0179e",
   "metadata": {},
   "source": [
    "**First we change all the coulmn names to lower cases**"
   ]
  },
  {
   "cell_type": "code",
   "execution_count": 2,
   "id": "3bf212ff",
   "metadata": {},
   "outputs": [
    {
     "data": {
      "text/plain": [
       "Index(['date_', 'clintname', 'accountid', 'productname', 'productid',\n",
       "       'companyid', 'category1', 'category3', 'invoicesid', 'unitsellprice',\n",
       "       'consumerprice', 'costprice', 'qty'],\n",
       "      dtype='object')"
      ]
     },
     "execution_count": 2,
     "metadata": {},
     "output_type": "execute_result"
    }
   ],
   "source": [
    "df.columns= df.columns.str.lower()\n",
    "df.columns"
   ]
  },
  {
   "cell_type": "code",
   "execution_count": 3,
   "id": "b0450008",
   "metadata": {},
   "outputs": [
    {
     "data": {
      "text/plain": [
       "Index(['proprties_id', 'proprties_name', 'proprties_type'], dtype='object')"
      ]
     },
     "execution_count": 3,
     "metadata": {},
     "output_type": "execute_result"
    }
   ],
   "source": [
    "prop.columns= prop.columns.str.lower()\n",
    "prop.columns"
   ]
  },
  {
   "cell_type": "code",
   "execution_count": 4,
   "id": "52a16e74",
   "metadata": {},
   "outputs": [
    {
     "data": {
      "text/plain": [
       "Index(['cop_id', 'cop_name'], dtype='object')"
      ]
     },
     "execution_count": 4,
     "metadata": {},
     "output_type": "execute_result"
    }
   ],
   "source": [
    "comp.columns= comp.columns.str.lower()\n",
    "comp.columns"
   ]
  },
  {
   "cell_type": "code",
   "execution_count": 5,
   "id": "26a547a2",
   "metadata": {},
   "outputs": [
    {
     "data": {
      "text/plain": [
       "Index(['client_name', 'client_id', 'location_id', 'location_name'], dtype='object')"
      ]
     },
     "execution_count": 5,
     "metadata": {},
     "output_type": "execute_result"
    }
   ],
   "source": [
    "AccRegion.columns= AccRegion.columns.str.lower()\n",
    "AccRegion.columns"
   ]
  },
  {
   "cell_type": "code",
   "execution_count": 6,
   "id": "3745fcce",
   "metadata": {
    "scrolled": true
   },
   "outputs": [
    {
     "data": {
      "text/html": [
       "<div>\n",
       "<style scoped>\n",
       "    .dataframe tbody tr th:only-of-type {\n",
       "        vertical-align: middle;\n",
       "    }\n",
       "\n",
       "    .dataframe tbody tr th {\n",
       "        vertical-align: top;\n",
       "    }\n",
       "\n",
       "    .dataframe thead th {\n",
       "        text-align: right;\n",
       "    }\n",
       "</style>\n",
       "<table border=\"1\" class=\"dataframe\">\n",
       "  <thead>\n",
       "    <tr style=\"text-align: right;\">\n",
       "      <th></th>\n",
       "      <th>date_</th>\n",
       "      <th>clintname</th>\n",
       "      <th>accountid</th>\n",
       "      <th>productname</th>\n",
       "      <th>productid</th>\n",
       "      <th>companyid</th>\n",
       "      <th>category1</th>\n",
       "      <th>category3</th>\n",
       "      <th>invoicesid</th>\n",
       "      <th>unitsellprice</th>\n",
       "      <th>consumerprice</th>\n",
       "      <th>costprice</th>\n",
       "      <th>qty</th>\n",
       "    </tr>\n",
       "  </thead>\n",
       "  <tbody>\n",
       "    <tr>\n",
       "      <th>0</th>\n",
       "      <td>2020-05-03</td>\n",
       "      <td>clint2042</td>\n",
       "      <td>1951</td>\n",
       "      <td>سويت حرير مزيل شعر</td>\n",
       "      <td>5307</td>\n",
       "      <td>31.0</td>\n",
       "      <td>1.0</td>\n",
       "      <td>26.0</td>\n",
       "      <td>3</td>\n",
       "      <td>4.31958</td>\n",
       "      <td>9.0</td>\n",
       "      <td>3.750000</td>\n",
       "      <td>24.0</td>\n",
       "    </tr>\n",
       "    <tr>\n",
       "      <th>1</th>\n",
       "      <td>2020-05-03</td>\n",
       "      <td>clint2042</td>\n",
       "      <td>1951</td>\n",
       "      <td>ايزي سويت عرض 3 قطع/عسل نحل-ورد-زيتون سعر جديد</td>\n",
       "      <td>4307</td>\n",
       "      <td>42.0</td>\n",
       "      <td>1.0</td>\n",
       "      <td>26.0</td>\n",
       "      <td>3</td>\n",
       "      <td>4.48166</td>\n",
       "      <td>8.0</td>\n",
       "      <td>3.500000</td>\n",
       "      <td>12.0</td>\n",
       "    </tr>\n",
       "    <tr>\n",
       "      <th>2</th>\n",
       "      <td>2020-05-03</td>\n",
       "      <td>clint2042</td>\n",
       "      <td>1951</td>\n",
       "      <td>ماجيك كريم</td>\n",
       "      <td>5954</td>\n",
       "      <td>31.0</td>\n",
       "      <td>1.0</td>\n",
       "      <td>7.0</td>\n",
       "      <td>3</td>\n",
       "      <td>7.75000</td>\n",
       "      <td>9.5</td>\n",
       "      <td>6.833000</td>\n",
       "      <td>6.0</td>\n",
       "    </tr>\n",
       "    <tr>\n",
       "      <th>3</th>\n",
       "      <td>2020-05-03</td>\n",
       "      <td>clint2042</td>\n",
       "      <td>1951</td>\n",
       "      <td>بنادور كريم ابيض</td>\n",
       "      <td>4660</td>\n",
       "      <td>31.0</td>\n",
       "      <td>1.0</td>\n",
       "      <td>7.0</td>\n",
       "      <td>3</td>\n",
       "      <td>41.55833</td>\n",
       "      <td>55.0</td>\n",
       "      <td>33.006798</td>\n",
       "      <td>6.0</td>\n",
       "    </tr>\n",
       "    <tr>\n",
       "      <th>4</th>\n",
       "      <td>2020-05-03</td>\n",
       "      <td>clint2042</td>\n",
       "      <td>1951</td>\n",
       "      <td>بنادور كريم اصفر</td>\n",
       "      <td>4661</td>\n",
       "      <td>31.0</td>\n",
       "      <td>1.0</td>\n",
       "      <td>7.0</td>\n",
       "      <td>3</td>\n",
       "      <td>41.55666</td>\n",
       "      <td>55.0</td>\n",
       "      <td>36.666000</td>\n",
       "      <td>3.0</td>\n",
       "    </tr>\n",
       "  </tbody>\n",
       "</table>\n",
       "</div>"
      ],
      "text/plain": [
       "       date_  clintname  accountid  \\\n",
       "0 2020-05-03  clint2042       1951   \n",
       "1 2020-05-03  clint2042       1951   \n",
       "2 2020-05-03  clint2042       1951   \n",
       "3 2020-05-03  clint2042       1951   \n",
       "4 2020-05-03  clint2042       1951   \n",
       "\n",
       "                                      productname  productid  companyid  \\\n",
       "0                              سويت حرير مزيل شعر       5307       31.0   \n",
       "1  ايزي سويت عرض 3 قطع/عسل نحل-ورد-زيتون سعر جديد       4307       42.0   \n",
       "2                                      ماجيك كريم       5954       31.0   \n",
       "3                                بنادور كريم ابيض       4660       31.0   \n",
       "4                                بنادور كريم اصفر       4661       31.0   \n",
       "\n",
       "   category1  category3  invoicesid  unitsellprice  consumerprice  costprice  \\\n",
       "0        1.0       26.0           3        4.31958            9.0   3.750000   \n",
       "1        1.0       26.0           3        4.48166            8.0   3.500000   \n",
       "2        1.0        7.0           3        7.75000            9.5   6.833000   \n",
       "3        1.0        7.0           3       41.55833           55.0  33.006798   \n",
       "4        1.0        7.0           3       41.55666           55.0  36.666000   \n",
       "\n",
       "    qty  \n",
       "0  24.0  \n",
       "1  12.0  \n",
       "2   6.0  \n",
       "3   6.0  \n",
       "4   3.0  "
      ]
     },
     "execution_count": 6,
     "metadata": {},
     "output_type": "execute_result"
    }
   ],
   "source": [
    "df.head()"
   ]
  },
  {
   "cell_type": "code",
   "execution_count": 7,
   "id": "064c2e92",
   "metadata": {},
   "outputs": [
    {
     "data": {
      "text/plain": [
       "(523318, 13)"
      ]
     },
     "execution_count": 7,
     "metadata": {},
     "output_type": "execute_result"
    }
   ],
   "source": [
    "df.shape"
   ]
  },
  {
   "cell_type": "code",
   "execution_count": 8,
   "id": "bccbed20",
   "metadata": {},
   "outputs": [
    {
     "data": {
      "text/html": [
       "<div>\n",
       "<style scoped>\n",
       "    .dataframe tbody tr th:only-of-type {\n",
       "        vertical-align: middle;\n",
       "    }\n",
       "\n",
       "    .dataframe tbody tr th {\n",
       "        vertical-align: top;\n",
       "    }\n",
       "\n",
       "    .dataframe thead th {\n",
       "        text-align: right;\n",
       "    }\n",
       "</style>\n",
       "<table border=\"1\" class=\"dataframe\">\n",
       "  <thead>\n",
       "    <tr style=\"text-align: right;\">\n",
       "      <th></th>\n",
       "      <th>accountid</th>\n",
       "      <th>productid</th>\n",
       "      <th>companyid</th>\n",
       "      <th>category1</th>\n",
       "      <th>category3</th>\n",
       "      <th>invoicesid</th>\n",
       "      <th>unitsellprice</th>\n",
       "      <th>consumerprice</th>\n",
       "      <th>costprice</th>\n",
       "      <th>qty</th>\n",
       "    </tr>\n",
       "  </thead>\n",
       "  <tbody>\n",
       "    <tr>\n",
       "      <th>count</th>\n",
       "      <td>523318.000000</td>\n",
       "      <td>523318.000000</td>\n",
       "      <td>520817.000000</td>\n",
       "      <td>522552.000000</td>\n",
       "      <td>487439.000000</td>\n",
       "      <td>523318.000000</td>\n",
       "      <td>523318.000000</td>\n",
       "      <td>523318.000000</td>\n",
       "      <td>523318.000000</td>\n",
       "      <td>523318.000000</td>\n",
       "    </tr>\n",
       "    <tr>\n",
       "      <th>mean</th>\n",
       "      <td>1412.515946</td>\n",
       "      <td>5916.807968</td>\n",
       "      <td>39.674907</td>\n",
       "      <td>1.480402</td>\n",
       "      <td>49.765981</td>\n",
       "      <td>24038.573082</td>\n",
       "      <td>22.358202</td>\n",
       "      <td>22.045283</td>\n",
       "      <td>20.038836</td>\n",
       "      <td>8.289315</td>\n",
       "    </tr>\n",
       "    <tr>\n",
       "      <th>std</th>\n",
       "      <td>711.945845</td>\n",
       "      <td>1216.952143</td>\n",
       "      <td>19.759017</td>\n",
       "      <td>2.297926</td>\n",
       "      <td>44.885647</td>\n",
       "      <td>14543.382508</td>\n",
       "      <td>32.834781</td>\n",
       "      <td>33.988589</td>\n",
       "      <td>32.373985</td>\n",
       "      <td>52.950912</td>\n",
       "    </tr>\n",
       "    <tr>\n",
       "      <th>min</th>\n",
       "      <td>141.000000</td>\n",
       "      <td>4181.000000</td>\n",
       "      <td>0.000000</td>\n",
       "      <td>1.000000</td>\n",
       "      <td>4.000000</td>\n",
       "      <td>3.000000</td>\n",
       "      <td>0.000000</td>\n",
       "      <td>0.000000</td>\n",
       "      <td>-134.860016</td>\n",
       "      <td>0.005000</td>\n",
       "    </tr>\n",
       "    <tr>\n",
       "      <th>25%</th>\n",
       "      <td>862.000000</td>\n",
       "      <td>5028.000000</td>\n",
       "      <td>31.000000</td>\n",
       "      <td>1.000000</td>\n",
       "      <td>16.000000</td>\n",
       "      <td>11236.000000</td>\n",
       "      <td>6.450000</td>\n",
       "      <td>5.500000</td>\n",
       "      <td>5.500000</td>\n",
       "      <td>1.000000</td>\n",
       "    </tr>\n",
       "    <tr>\n",
       "      <th>50%</th>\n",
       "      <td>1326.000000</td>\n",
       "      <td>5701.000000</td>\n",
       "      <td>33.000000</td>\n",
       "      <td>1.000000</td>\n",
       "      <td>39.000000</td>\n",
       "      <td>23471.000000</td>\n",
       "      <td>12.220000</td>\n",
       "      <td>13.000000</td>\n",
       "      <td>10.661362</td>\n",
       "      <td>2.000000</td>\n",
       "    </tr>\n",
       "    <tr>\n",
       "      <th>75%</th>\n",
       "      <td>2042.000000</td>\n",
       "      <td>6509.000000</td>\n",
       "      <td>51.000000</td>\n",
       "      <td>2.000000</td>\n",
       "      <td>70.000000</td>\n",
       "      <td>36380.000000</td>\n",
       "      <td>24.000000</td>\n",
       "      <td>26.000000</td>\n",
       "      <td>21.000000</td>\n",
       "      <td>5.000000</td>\n",
       "    </tr>\n",
       "    <tr>\n",
       "      <th>max</th>\n",
       "      <td>2764.000000</td>\n",
       "      <td>9710.000000</td>\n",
       "      <td>86.000000</td>\n",
       "      <td>167.000000</td>\n",
       "      <td>167.000000</td>\n",
       "      <td>50313.000000</td>\n",
       "      <td>1760.120000</td>\n",
       "      <td>1000.000000</td>\n",
       "      <td>8167.000000</td>\n",
       "      <td>15000.000000</td>\n",
       "    </tr>\n",
       "  </tbody>\n",
       "</table>\n",
       "</div>"
      ],
      "text/plain": [
       "           accountid      productid      companyid      category1  \\\n",
       "count  523318.000000  523318.000000  520817.000000  522552.000000   \n",
       "mean     1412.515946    5916.807968      39.674907       1.480402   \n",
       "std       711.945845    1216.952143      19.759017       2.297926   \n",
       "min       141.000000    4181.000000       0.000000       1.000000   \n",
       "25%       862.000000    5028.000000      31.000000       1.000000   \n",
       "50%      1326.000000    5701.000000      33.000000       1.000000   \n",
       "75%      2042.000000    6509.000000      51.000000       2.000000   \n",
       "max      2764.000000    9710.000000      86.000000     167.000000   \n",
       "\n",
       "           category3     invoicesid  unitsellprice  consumerprice  \\\n",
       "count  487439.000000  523318.000000  523318.000000  523318.000000   \n",
       "mean       49.765981   24038.573082      22.358202      22.045283   \n",
       "std        44.885647   14543.382508      32.834781      33.988589   \n",
       "min         4.000000       3.000000       0.000000       0.000000   \n",
       "25%        16.000000   11236.000000       6.450000       5.500000   \n",
       "50%        39.000000   23471.000000      12.220000      13.000000   \n",
       "75%        70.000000   36380.000000      24.000000      26.000000   \n",
       "max       167.000000   50313.000000    1760.120000    1000.000000   \n",
       "\n",
       "           costprice            qty  \n",
       "count  523318.000000  523318.000000  \n",
       "mean       20.038836       8.289315  \n",
       "std        32.373985      52.950912  \n",
       "min      -134.860016       0.005000  \n",
       "25%         5.500000       1.000000  \n",
       "50%        10.661362       2.000000  \n",
       "75%        21.000000       5.000000  \n",
       "max      8167.000000   15000.000000  "
      ]
     },
     "execution_count": 8,
     "metadata": {},
     "output_type": "execute_result"
    }
   ],
   "source": [
    "df.describe()"
   ]
  },
  {
   "cell_type": "code",
   "execution_count": 9,
   "id": "205f68df",
   "metadata": {},
   "outputs": [
    {
     "name": "stdout",
     "output_type": "stream",
     "text": [
      "<class 'pandas.core.frame.DataFrame'>\n",
      "RangeIndex: 523318 entries, 0 to 523317\n",
      "Data columns (total 13 columns):\n",
      " #   Column         Non-Null Count   Dtype         \n",
      "---  ------         --------------   -----         \n",
      " 0   date_          523318 non-null  datetime64[ns]\n",
      " 1   clintname      523318 non-null  object        \n",
      " 2   accountid      523318 non-null  int64         \n",
      " 3   productname    523318 non-null  object        \n",
      " 4   productid      523318 non-null  int64         \n",
      " 5   companyid      520817 non-null  float64       \n",
      " 6   category1      522552 non-null  float64       \n",
      " 7   category3      487439 non-null  float64       \n",
      " 8   invoicesid     523318 non-null  int64         \n",
      " 9   unitsellprice  523318 non-null  float64       \n",
      " 10  consumerprice  523318 non-null  float64       \n",
      " 11  costprice      523318 non-null  float64       \n",
      " 12  qty            523318 non-null  float64       \n",
      "dtypes: datetime64[ns](1), float64(7), int64(3), object(2)\n",
      "memory usage: 51.9+ MB\n"
     ]
    }
   ],
   "source": [
    "df.info()"
   ]
  },
  {
   "cell_type": "code",
   "execution_count": 10,
   "id": "8405f57d",
   "metadata": {
    "scrolled": true
   },
   "outputs": [
    {
     "data": {
      "text/plain": [
       "date_              611\n",
       "clintname          898\n",
       "accountid          898\n",
       "productname       5222\n",
       "productid         5256\n",
       "companyid           79\n",
       "category1            4\n",
       "category3          140\n",
       "invoicesid       47105\n",
       "unitsellprice    12987\n",
       "consumerprice      288\n",
       "costprice        21407\n",
       "qty                210\n",
       "dtype: int64"
      ]
     },
     "execution_count": 10,
     "metadata": {},
     "output_type": "execute_result"
    }
   ],
   "source": [
    "df.nunique()"
   ]
  },
  {
   "cell_type": "markdown",
   "id": "03c6e1fb",
   "metadata": {},
   "source": [
    "## ***"
   ]
  },
  {
   "cell_type": "code",
   "execution_count": 11,
   "id": "e562f706",
   "metadata": {
    "scrolled": true
   },
   "outputs": [
    {
     "data": {
      "text/html": [
       "<div>\n",
       "<style scoped>\n",
       "    .dataframe tbody tr th:only-of-type {\n",
       "        vertical-align: middle;\n",
       "    }\n",
       "\n",
       "    .dataframe tbody tr th {\n",
       "        vertical-align: top;\n",
       "    }\n",
       "\n",
       "    .dataframe thead th {\n",
       "        text-align: right;\n",
       "    }\n",
       "</style>\n",
       "<table border=\"1\" class=\"dataframe\">\n",
       "  <thead>\n",
       "    <tr style=\"text-align: right;\">\n",
       "      <th></th>\n",
       "      <th>proprties_id</th>\n",
       "      <th>proprties_name</th>\n",
       "      <th>proprties_type</th>\n",
       "    </tr>\n",
       "  </thead>\n",
       "  <tbody>\n",
       "    <tr>\n",
       "      <th>0</th>\n",
       "      <td>1</td>\n",
       "      <td>اكسسوار</td>\n",
       "      <td>1</td>\n",
       "    </tr>\n",
       "    <tr>\n",
       "      <th>1</th>\n",
       "      <td>164</td>\n",
       "      <td>مبيدات</td>\n",
       "      <td>2</td>\n",
       "    </tr>\n",
       "    <tr>\n",
       "      <th>2</th>\n",
       "      <td>2</td>\n",
       "      <td>مستلزمات</td>\n",
       "      <td>1</td>\n",
       "    </tr>\n",
       "    <tr>\n",
       "      <th>3</th>\n",
       "      <td>3</td>\n",
       "      <td>ورقيات</td>\n",
       "      <td>1</td>\n",
       "    </tr>\n",
       "    <tr>\n",
       "      <th>4</th>\n",
       "      <td>165</td>\n",
       "      <td>مكواة شعر</td>\n",
       "      <td>2</td>\n",
       "    </tr>\n",
       "  </tbody>\n",
       "</table>\n",
       "</div>"
      ],
      "text/plain": [
       "   proprties_id proprties_name  proprties_type\n",
       "0             1        اكسسوار               1\n",
       "1           164         مبيدات               2\n",
       "2             2       مستلزمات               1\n",
       "3             3         ورقيات               1\n",
       "4           165      مكواة شعر               2"
      ]
     },
     "execution_count": 11,
     "metadata": {},
     "output_type": "execute_result"
    }
   ],
   "source": [
    "prop.head()"
   ]
  },
  {
   "cell_type": "code",
   "execution_count": 12,
   "id": "254617b0",
   "metadata": {},
   "outputs": [
    {
     "data": {
      "text/plain": [
       "(167, 3)"
      ]
     },
     "execution_count": 12,
     "metadata": {},
     "output_type": "execute_result"
    }
   ],
   "source": [
    "prop.shape"
   ]
  },
  {
   "cell_type": "code",
   "execution_count": 13,
   "id": "b28deded",
   "metadata": {},
   "outputs": [
    {
     "data": {
      "text/html": [
       "<div>\n",
       "<style scoped>\n",
       "    .dataframe tbody tr th:only-of-type {\n",
       "        vertical-align: middle;\n",
       "    }\n",
       "\n",
       "    .dataframe tbody tr th {\n",
       "        vertical-align: top;\n",
       "    }\n",
       "\n",
       "    .dataframe thead th {\n",
       "        text-align: right;\n",
       "    }\n",
       "</style>\n",
       "<table border=\"1\" class=\"dataframe\">\n",
       "  <thead>\n",
       "    <tr style=\"text-align: right;\">\n",
       "      <th></th>\n",
       "      <th>proprties_id</th>\n",
       "      <th>proprties_type</th>\n",
       "    </tr>\n",
       "  </thead>\n",
       "  <tbody>\n",
       "    <tr>\n",
       "      <th>count</th>\n",
       "      <td>167.00000</td>\n",
       "      <td>167.000000</td>\n",
       "    </tr>\n",
       "    <tr>\n",
       "      <th>mean</th>\n",
       "      <td>84.00000</td>\n",
       "      <td>0.311377</td>\n",
       "    </tr>\n",
       "    <tr>\n",
       "      <th>std</th>\n",
       "      <td>48.35287</td>\n",
       "      <td>1.480411</td>\n",
       "    </tr>\n",
       "    <tr>\n",
       "      <th>min</th>\n",
       "      <td>1.00000</td>\n",
       "      <td>-1.000000</td>\n",
       "    </tr>\n",
       "    <tr>\n",
       "      <th>25%</th>\n",
       "      <td>42.50000</td>\n",
       "      <td>-1.000000</td>\n",
       "    </tr>\n",
       "    <tr>\n",
       "      <th>50%</th>\n",
       "      <td>84.00000</td>\n",
       "      <td>-1.000000</td>\n",
       "    </tr>\n",
       "    <tr>\n",
       "      <th>75%</th>\n",
       "      <td>125.50000</td>\n",
       "      <td>2.000000</td>\n",
       "    </tr>\n",
       "    <tr>\n",
       "      <th>max</th>\n",
       "      <td>167.00000</td>\n",
       "      <td>2.000000</td>\n",
       "    </tr>\n",
       "  </tbody>\n",
       "</table>\n",
       "</div>"
      ],
      "text/plain": [
       "       proprties_id  proprties_type\n",
       "count     167.00000      167.000000\n",
       "mean       84.00000        0.311377\n",
       "std        48.35287        1.480411\n",
       "min         1.00000       -1.000000\n",
       "25%        42.50000       -1.000000\n",
       "50%        84.00000       -1.000000\n",
       "75%       125.50000        2.000000\n",
       "max       167.00000        2.000000"
      ]
     },
     "execution_count": 13,
     "metadata": {},
     "output_type": "execute_result"
    }
   ],
   "source": [
    "prop.describe()"
   ]
  },
  {
   "cell_type": "code",
   "execution_count": 14,
   "id": "f9f1671b",
   "metadata": {},
   "outputs": [
    {
     "name": "stdout",
     "output_type": "stream",
     "text": [
      "<class 'pandas.core.frame.DataFrame'>\n",
      "RangeIndex: 167 entries, 0 to 166\n",
      "Data columns (total 3 columns):\n",
      " #   Column          Non-Null Count  Dtype \n",
      "---  ------          --------------  ----- \n",
      " 0   proprties_id    167 non-null    int64 \n",
      " 1   proprties_name  167 non-null    object\n",
      " 2   proprties_type  167 non-null    int64 \n",
      "dtypes: int64(2), object(1)\n",
      "memory usage: 4.0+ KB\n"
     ]
    }
   ],
   "source": [
    "prop.info()"
   ]
  },
  {
   "cell_type": "code",
   "execution_count": 15,
   "id": "2c5ee954",
   "metadata": {},
   "outputs": [
    {
     "data": {
      "text/plain": [
       "proprties_id      167\n",
       "proprties_name    164\n",
       "proprties_type      3\n",
       "dtype: int64"
      ]
     },
     "execution_count": 15,
     "metadata": {},
     "output_type": "execute_result"
    }
   ],
   "source": [
    "prop.nunique()"
   ]
  },
  {
   "cell_type": "code",
   "execution_count": 16,
   "id": "8707d09c",
   "metadata": {
    "scrolled": true
   },
   "outputs": [
    {
     "data": {
      "text/plain": [
       "-1    93\n",
       " 2    71\n",
       " 1     3\n",
       "Name: proprties_type, dtype: int64"
      ]
     },
     "execution_count": 16,
     "metadata": {},
     "output_type": "execute_result"
    }
   ],
   "source": [
    "prop['proprties_type'].value_counts()"
   ]
  },
  {
   "cell_type": "markdown",
   "id": "97aedbf8",
   "metadata": {},
   "source": [
    "## ***"
   ]
  },
  {
   "cell_type": "code",
   "execution_count": 17,
   "id": "b7903fc3",
   "metadata": {
    "scrolled": true
   },
   "outputs": [
    {
     "data": {
      "text/html": [
       "<div>\n",
       "<style scoped>\n",
       "    .dataframe tbody tr th:only-of-type {\n",
       "        vertical-align: middle;\n",
       "    }\n",
       "\n",
       "    .dataframe tbody tr th {\n",
       "        vertical-align: top;\n",
       "    }\n",
       "\n",
       "    .dataframe thead th {\n",
       "        text-align: right;\n",
       "    }\n",
       "</style>\n",
       "<table border=\"1\" class=\"dataframe\">\n",
       "  <thead>\n",
       "    <tr style=\"text-align: right;\">\n",
       "      <th></th>\n",
       "      <th>cop_id</th>\n",
       "      <th>cop_name</th>\n",
       "    </tr>\n",
       "  </thead>\n",
       "  <tbody>\n",
       "    <tr>\n",
       "      <th>0</th>\n",
       "      <td>1</td>\n",
       "      <td>تركيبات</td>\n",
       "    </tr>\n",
       "    <tr>\n",
       "      <th>1</th>\n",
       "      <td>50</td>\n",
       "      <td>بيندولين</td>\n",
       "    </tr>\n",
       "    <tr>\n",
       "      <th>2</th>\n",
       "      <td>2</td>\n",
       "      <td>سرنجات</td>\n",
       "    </tr>\n",
       "    <tr>\n",
       "      <th>3</th>\n",
       "      <td>3</td>\n",
       "      <td>بلاستر</td>\n",
       "    </tr>\n",
       "    <tr>\n",
       "      <th>4</th>\n",
       "      <td>51</td>\n",
       "      <td>بيور</td>\n",
       "    </tr>\n",
       "  </tbody>\n",
       "</table>\n",
       "</div>"
      ],
      "text/plain": [
       "   cop_id  cop_name\n",
       "0       1   تركيبات\n",
       "1      50  بيندولين\n",
       "2       2    سرنجات\n",
       "3       3    بلاستر\n",
       "4      51      بيور"
      ]
     },
     "execution_count": 17,
     "metadata": {},
     "output_type": "execute_result"
    }
   ],
   "source": [
    "comp.head()"
   ]
  },
  {
   "cell_type": "code",
   "execution_count": 18,
   "id": "3971aed8",
   "metadata": {},
   "outputs": [
    {
     "data": {
      "text/plain": [
       "(88, 2)"
      ]
     },
     "execution_count": 18,
     "metadata": {},
     "output_type": "execute_result"
    }
   ],
   "source": [
    "comp.shape"
   ]
  },
  {
   "cell_type": "code",
   "execution_count": 19,
   "id": "2ebd3eeb",
   "metadata": {},
   "outputs": [
    {
     "data": {
      "text/html": [
       "<div>\n",
       "<style scoped>\n",
       "    .dataframe tbody tr th:only-of-type {\n",
       "        vertical-align: middle;\n",
       "    }\n",
       "\n",
       "    .dataframe tbody tr th {\n",
       "        vertical-align: top;\n",
       "    }\n",
       "\n",
       "    .dataframe thead th {\n",
       "        text-align: right;\n",
       "    }\n",
       "</style>\n",
       "<table border=\"1\" class=\"dataframe\">\n",
       "  <thead>\n",
       "    <tr style=\"text-align: right;\">\n",
       "      <th></th>\n",
       "      <th>cop_id</th>\n",
       "    </tr>\n",
       "  </thead>\n",
       "  <tbody>\n",
       "    <tr>\n",
       "      <th>count</th>\n",
       "      <td>88.000000</td>\n",
       "    </tr>\n",
       "    <tr>\n",
       "      <th>mean</th>\n",
       "      <td>44.500000</td>\n",
       "    </tr>\n",
       "    <tr>\n",
       "      <th>std</th>\n",
       "      <td>25.547342</td>\n",
       "    </tr>\n",
       "    <tr>\n",
       "      <th>min</th>\n",
       "      <td>1.000000</td>\n",
       "    </tr>\n",
       "    <tr>\n",
       "      <th>25%</th>\n",
       "      <td>22.750000</td>\n",
       "    </tr>\n",
       "    <tr>\n",
       "      <th>50%</th>\n",
       "      <td>44.500000</td>\n",
       "    </tr>\n",
       "    <tr>\n",
       "      <th>75%</th>\n",
       "      <td>66.250000</td>\n",
       "    </tr>\n",
       "    <tr>\n",
       "      <th>max</th>\n",
       "      <td>88.000000</td>\n",
       "    </tr>\n",
       "  </tbody>\n",
       "</table>\n",
       "</div>"
      ],
      "text/plain": [
       "          cop_id\n",
       "count  88.000000\n",
       "mean   44.500000\n",
       "std    25.547342\n",
       "min     1.000000\n",
       "25%    22.750000\n",
       "50%    44.500000\n",
       "75%    66.250000\n",
       "max    88.000000"
      ]
     },
     "execution_count": 19,
     "metadata": {},
     "output_type": "execute_result"
    }
   ],
   "source": [
    "comp.describe()"
   ]
  },
  {
   "cell_type": "code",
   "execution_count": 20,
   "id": "e0242c96",
   "metadata": {},
   "outputs": [
    {
     "name": "stdout",
     "output_type": "stream",
     "text": [
      "<class 'pandas.core.frame.DataFrame'>\n",
      "RangeIndex: 88 entries, 0 to 87\n",
      "Data columns (total 2 columns):\n",
      " #   Column    Non-Null Count  Dtype \n",
      "---  ------    --------------  ----- \n",
      " 0   cop_id    88 non-null     int64 \n",
      " 1   cop_name  88 non-null     object\n",
      "dtypes: int64(1), object(1)\n",
      "memory usage: 1.5+ KB\n"
     ]
    }
   ],
   "source": [
    "comp.info()"
   ]
  },
  {
   "cell_type": "code",
   "execution_count": 21,
   "id": "bbcd5df1",
   "metadata": {
    "scrolled": false
   },
   "outputs": [
    {
     "data": {
      "text/plain": [
       "cop_id      88\n",
       "cop_name    87\n",
       "dtype: int64"
      ]
     },
     "execution_count": 21,
     "metadata": {},
     "output_type": "execute_result"
    }
   ],
   "source": [
    "comp.nunique()"
   ]
  },
  {
   "cell_type": "markdown",
   "id": "dd45b691",
   "metadata": {},
   "source": [
    "## ***"
   ]
  },
  {
   "cell_type": "code",
   "execution_count": 22,
   "id": "0e1f8249",
   "metadata": {
    "scrolled": true
   },
   "outputs": [
    {
     "data": {
      "text/html": [
       "<div>\n",
       "<style scoped>\n",
       "    .dataframe tbody tr th:only-of-type {\n",
       "        vertical-align: middle;\n",
       "    }\n",
       "\n",
       "    .dataframe tbody tr th {\n",
       "        vertical-align: top;\n",
       "    }\n",
       "\n",
       "    .dataframe thead th {\n",
       "        text-align: right;\n",
       "    }\n",
       "</style>\n",
       "<table border=\"1\" class=\"dataframe\">\n",
       "  <thead>\n",
       "    <tr style=\"text-align: right;\">\n",
       "      <th></th>\n",
       "      <th>client_name</th>\n",
       "      <th>client_id</th>\n",
       "      <th>location_id</th>\n",
       "      <th>location_name</th>\n",
       "    </tr>\n",
       "  </thead>\n",
       "  <tbody>\n",
       "    <tr>\n",
       "      <th>0</th>\n",
       "      <td>clint1639</td>\n",
       "      <td>1548</td>\n",
       "      <td>9</td>\n",
       "      <td>Region171</td>\n",
       "    </tr>\n",
       "    <tr>\n",
       "      <th>1</th>\n",
       "      <td>clint1641</td>\n",
       "      <td>1550</td>\n",
       "      <td>5</td>\n",
       "      <td>Region1-5</td>\n",
       "    </tr>\n",
       "    <tr>\n",
       "      <th>2</th>\n",
       "      <td>clint1646</td>\n",
       "      <td>1555</td>\n",
       "      <td>5</td>\n",
       "      <td>Region1-5</td>\n",
       "    </tr>\n",
       "    <tr>\n",
       "      <th>3</th>\n",
       "      <td>clint1647</td>\n",
       "      <td>1556</td>\n",
       "      <td>5</td>\n",
       "      <td>Region1-5</td>\n",
       "    </tr>\n",
       "    <tr>\n",
       "      <th>4</th>\n",
       "      <td>clint1651</td>\n",
       "      <td>1560</td>\n",
       "      <td>5</td>\n",
       "      <td>Region1-5</td>\n",
       "    </tr>\n",
       "  </tbody>\n",
       "</table>\n",
       "</div>"
      ],
      "text/plain": [
       "  client_name  client_id  location_id location_name\n",
       "0   clint1639       1548            9     Region171\n",
       "1   clint1641       1550            5     Region1-5\n",
       "2   clint1646       1555            5     Region1-5\n",
       "3   clint1647       1556            5     Region1-5\n",
       "4   clint1651       1560            5     Region1-5"
      ]
     },
     "execution_count": 22,
     "metadata": {},
     "output_type": "execute_result"
    }
   ],
   "source": [
    "AccRegion.head()"
   ]
  },
  {
   "cell_type": "code",
   "execution_count": 23,
   "id": "69736894",
   "metadata": {},
   "outputs": [
    {
     "data": {
      "text/plain": [
       "(1384, 4)"
      ]
     },
     "execution_count": 23,
     "metadata": {},
     "output_type": "execute_result"
    }
   ],
   "source": [
    "AccRegion.shape"
   ]
  },
  {
   "cell_type": "code",
   "execution_count": 24,
   "id": "e1f08ef2",
   "metadata": {},
   "outputs": [
    {
     "data": {
      "text/html": [
       "<div>\n",
       "<style scoped>\n",
       "    .dataframe tbody tr th:only-of-type {\n",
       "        vertical-align: middle;\n",
       "    }\n",
       "\n",
       "    .dataframe tbody tr th {\n",
       "        vertical-align: top;\n",
       "    }\n",
       "\n",
       "    .dataframe thead th {\n",
       "        text-align: right;\n",
       "    }\n",
       "</style>\n",
       "<table border=\"1\" class=\"dataframe\">\n",
       "  <thead>\n",
       "    <tr style=\"text-align: right;\">\n",
       "      <th></th>\n",
       "      <th>client_id</th>\n",
       "      <th>location_id</th>\n",
       "    </tr>\n",
       "  </thead>\n",
       "  <tbody>\n",
       "    <tr>\n",
       "      <th>count</th>\n",
       "      <td>1384.000000</td>\n",
       "      <td>1384.000000</td>\n",
       "    </tr>\n",
       "    <tr>\n",
       "      <th>mean</th>\n",
       "      <td>1460.372110</td>\n",
       "      <td>41.761561</td>\n",
       "    </tr>\n",
       "    <tr>\n",
       "      <th>std</th>\n",
       "      <td>840.441257</td>\n",
       "      <td>27.997899</td>\n",
       "    </tr>\n",
       "    <tr>\n",
       "      <th>min</th>\n",
       "      <td>130.000000</td>\n",
       "      <td>1.000000</td>\n",
       "    </tr>\n",
       "    <tr>\n",
       "      <th>25%</th>\n",
       "      <td>621.750000</td>\n",
       "      <td>15.000000</td>\n",
       "    </tr>\n",
       "    <tr>\n",
       "      <th>50%</th>\n",
       "      <td>1434.000000</td>\n",
       "      <td>46.500000</td>\n",
       "    </tr>\n",
       "    <tr>\n",
       "      <th>75%</th>\n",
       "      <td>2204.250000</td>\n",
       "      <td>69.000000</td>\n",
       "    </tr>\n",
       "    <tr>\n",
       "      <th>max</th>\n",
       "      <td>2764.000000</td>\n",
       "      <td>87.000000</td>\n",
       "    </tr>\n",
       "  </tbody>\n",
       "</table>\n",
       "</div>"
      ],
      "text/plain": [
       "         client_id  location_id\n",
       "count  1384.000000  1384.000000\n",
       "mean   1460.372110    41.761561\n",
       "std     840.441257    27.997899\n",
       "min     130.000000     1.000000\n",
       "25%     621.750000    15.000000\n",
       "50%    1434.000000    46.500000\n",
       "75%    2204.250000    69.000000\n",
       "max    2764.000000    87.000000"
      ]
     },
     "execution_count": 24,
     "metadata": {},
     "output_type": "execute_result"
    }
   ],
   "source": [
    "AccRegion.describe()"
   ]
  },
  {
   "cell_type": "code",
   "execution_count": 25,
   "id": "0aa7a334",
   "metadata": {},
   "outputs": [
    {
     "name": "stdout",
     "output_type": "stream",
     "text": [
      "<class 'pandas.core.frame.DataFrame'>\n",
      "RangeIndex: 1384 entries, 0 to 1383\n",
      "Data columns (total 4 columns):\n",
      " #   Column         Non-Null Count  Dtype \n",
      "---  ------         --------------  ----- \n",
      " 0   client_name    1384 non-null   object\n",
      " 1   client_id      1384 non-null   int64 \n",
      " 2   location_id    1384 non-null   int64 \n",
      " 3   location_name  1384 non-null   object\n",
      "dtypes: int64(2), object(2)\n",
      "memory usage: 43.4+ KB\n"
     ]
    }
   ],
   "source": [
    "AccRegion.info()"
   ]
  },
  {
   "cell_type": "code",
   "execution_count": 26,
   "id": "17a9e5d9",
   "metadata": {},
   "outputs": [
    {
     "data": {
      "text/plain": [
       "client_name      1384\n",
       "client_id        1384\n",
       "location_id        84\n",
       "location_name      84\n",
       "dtype: int64"
      ]
     },
     "execution_count": 26,
     "metadata": {},
     "output_type": "execute_result"
    }
   ],
   "source": [
    "AccRegion.nunique()"
   ]
  },
  {
   "cell_type": "markdown",
   "id": "1dd9108e",
   "metadata": {
    "scrolled": true
   },
   "source": [
    "## ***"
   ]
  },
  {
   "cell_type": "markdown",
   "id": "07969f2b",
   "metadata": {},
   "source": [
    "<a id='assessing1'></a>\n",
    "## Data Assessing **1**"
   ]
  },
  {
   "cell_type": "markdown",
   "id": "5417b526",
   "metadata": {},
   "source": [
    "**Problems we faced:**\n",
    "<ol>\n",
    "  <li>The format of the \"ID\" columns will change its type to <b>object</b></li>\n",
    "  <li>category3 will be renamed t2 category2</li>\n",
    "  <li>all the column names will be changed to lower case</li>\n",
    "  <li>update the consumer price with 0 value and see if if there is a value > unitsellprice if there is we will replace it with (unitsellprice* 1.(mean diffrance between the consumer and sellprice for the products with higher consumer value)</li>\n",
    "  <li>add colmuns for 1-unitprofit 2- totalsales 3- totalconsumersales 4- totalprofit 5- totalconsumerprofit 6- totaldifsales 7- totaldifprofit</li>\n",
    "</ol> \n",
    "\n",
    "\n",
    "**These are the columns that we will be working on:**\n",
    "<li>First,we will correct the wrong formats for each data frame</li>\n",
    "\n"
   ]
  },
  {
   "cell_type": "code",
   "execution_count": 27,
   "id": "625b7756",
   "metadata": {
    "scrolled": true
   },
   "outputs": [
    {
     "name": "stdout",
     "output_type": "stream",
     "text": [
      "<class 'pandas.core.frame.DataFrame'>\n",
      "RangeIndex: 523318 entries, 0 to 523317\n",
      "Data columns (total 13 columns):\n",
      " #   Column         Non-Null Count   Dtype         \n",
      "---  ------         --------------   -----         \n",
      " 0   date_          523318 non-null  datetime64[ns]\n",
      " 1   clintname      523318 non-null  object        \n",
      " 2   accountid      523318 non-null  int64         \n",
      " 3   productname    523318 non-null  object        \n",
      " 4   productid      523318 non-null  int64         \n",
      " 5   companyid      520817 non-null  float64       \n",
      " 6   category1      522552 non-null  float64       \n",
      " 7   category3      487439 non-null  float64       \n",
      " 8   invoicesid     523318 non-null  int64         \n",
      " 9   unitsellprice  523318 non-null  float64       \n",
      " 10  consumerprice  523318 non-null  float64       \n",
      " 11  costprice      523318 non-null  float64       \n",
      " 12  qty            523318 non-null  float64       \n",
      "dtypes: datetime64[ns](1), float64(7), int64(3), object(2)\n",
      "memory usage: 51.9+ MB\n"
     ]
    }
   ],
   "source": [
    "df.info()"
   ]
  },
  {
   "cell_type": "code",
   "execution_count": 28,
   "id": "611c81ad",
   "metadata": {},
   "outputs": [],
   "source": [
    "#change accountid , productid and invoicesid to object \n",
    "df = df.astype({\"accountid\": str}, errors='raise')\n",
    "df = df.astype({\"productid\": str}, errors='raise')\n",
    "df = df.astype({\"invoicesid\": str}, errors='raise')"
   ]
  },
  {
   "cell_type": "code",
   "execution_count": 29,
   "id": "ddde35f7",
   "metadata": {},
   "outputs": [],
   "source": [
    "#fill null values with 0 for coulmns companyid , category1 and category3 in order to change them to int and then to object\n",
    "df=df.fillna({'companyid':0,'category1':0,'category3':0})"
   ]
  },
  {
   "cell_type": "code",
   "execution_count": 30,
   "id": "61111147",
   "metadata": {},
   "outputs": [],
   "source": [
    "#change to int\n",
    "df = df.astype({'companyid':'int'})\n",
    "df = df.astype({'category1':'int'})\n",
    "df = df.astype({'category3':'int'})"
   ]
  },
  {
   "cell_type": "code",
   "execution_count": 31,
   "id": "8d4b9076",
   "metadata": {},
   "outputs": [],
   "source": [
    "#change to object\n",
    "df = df.astype({\"companyid\": str}, errors='raise')\n",
    "df = df.astype({\"category1\": str}, errors='raise')\n",
    "df = df.astype({\"category3\": str}, errors='raise')"
   ]
  },
  {
   "cell_type": "code",
   "execution_count": 32,
   "id": "bdc9bc12",
   "metadata": {},
   "outputs": [
    {
     "name": "stdout",
     "output_type": "stream",
     "text": [
      "<class 'pandas.core.frame.DataFrame'>\n",
      "RangeIndex: 523318 entries, 0 to 523317\n",
      "Data columns (total 13 columns):\n",
      " #   Column         Non-Null Count   Dtype         \n",
      "---  ------         --------------   -----         \n",
      " 0   date_          523318 non-null  datetime64[ns]\n",
      " 1   clintname      523318 non-null  object        \n",
      " 2   accountid      523318 non-null  object        \n",
      " 3   productname    523318 non-null  object        \n",
      " 4   productid      523318 non-null  object        \n",
      " 5   companyid      523318 non-null  object        \n",
      " 6   category1      523318 non-null  object        \n",
      " 7   category3      523318 non-null  object        \n",
      " 8   invoicesid     523318 non-null  object        \n",
      " 9   unitsellprice  523318 non-null  float64       \n",
      " 10  consumerprice  523318 non-null  float64       \n",
      " 11  costprice      523318 non-null  float64       \n",
      " 12  qty            523318 non-null  float64       \n",
      "dtypes: datetime64[ns](1), float64(4), object(8)\n",
      "memory usage: 51.9+ MB\n"
     ]
    }
   ],
   "source": [
    "df.info()"
   ]
  },
  {
   "cell_type": "code",
   "execution_count": 33,
   "id": "fc6f0dfe",
   "metadata": {
    "scrolled": false
   },
   "outputs": [
    {
     "data": {
      "text/html": [
       "<div>\n",
       "<style scoped>\n",
       "    .dataframe tbody tr th:only-of-type {\n",
       "        vertical-align: middle;\n",
       "    }\n",
       "\n",
       "    .dataframe tbody tr th {\n",
       "        vertical-align: top;\n",
       "    }\n",
       "\n",
       "    .dataframe thead th {\n",
       "        text-align: right;\n",
       "    }\n",
       "</style>\n",
       "<table border=\"1\" class=\"dataframe\">\n",
       "  <thead>\n",
       "    <tr style=\"text-align: right;\">\n",
       "      <th></th>\n",
       "      <th>unitsellprice</th>\n",
       "      <th>consumerprice</th>\n",
       "      <th>costprice</th>\n",
       "      <th>qty</th>\n",
       "    </tr>\n",
       "  </thead>\n",
       "  <tbody>\n",
       "    <tr>\n",
       "      <th>count</th>\n",
       "      <td>523318.000000</td>\n",
       "      <td>523318.000000</td>\n",
       "      <td>523318.000000</td>\n",
       "      <td>523318.000000</td>\n",
       "    </tr>\n",
       "    <tr>\n",
       "      <th>mean</th>\n",
       "      <td>22.358202</td>\n",
       "      <td>22.045283</td>\n",
       "      <td>20.038836</td>\n",
       "      <td>8.289315</td>\n",
       "    </tr>\n",
       "    <tr>\n",
       "      <th>std</th>\n",
       "      <td>32.834781</td>\n",
       "      <td>33.988589</td>\n",
       "      <td>32.373985</td>\n",
       "      <td>52.950912</td>\n",
       "    </tr>\n",
       "    <tr>\n",
       "      <th>min</th>\n",
       "      <td>0.000000</td>\n",
       "      <td>0.000000</td>\n",
       "      <td>-134.860016</td>\n",
       "      <td>0.005000</td>\n",
       "    </tr>\n",
       "    <tr>\n",
       "      <th>25%</th>\n",
       "      <td>6.450000</td>\n",
       "      <td>5.500000</td>\n",
       "      <td>5.500000</td>\n",
       "      <td>1.000000</td>\n",
       "    </tr>\n",
       "    <tr>\n",
       "      <th>50%</th>\n",
       "      <td>12.220000</td>\n",
       "      <td>13.000000</td>\n",
       "      <td>10.661362</td>\n",
       "      <td>2.000000</td>\n",
       "    </tr>\n",
       "    <tr>\n",
       "      <th>75%</th>\n",
       "      <td>24.000000</td>\n",
       "      <td>26.000000</td>\n",
       "      <td>21.000000</td>\n",
       "      <td>5.000000</td>\n",
       "    </tr>\n",
       "    <tr>\n",
       "      <th>max</th>\n",
       "      <td>1760.120000</td>\n",
       "      <td>1000.000000</td>\n",
       "      <td>8167.000000</td>\n",
       "      <td>15000.000000</td>\n",
       "    </tr>\n",
       "  </tbody>\n",
       "</table>\n",
       "</div>"
      ],
      "text/plain": [
       "       unitsellprice  consumerprice      costprice            qty\n",
       "count  523318.000000  523318.000000  523318.000000  523318.000000\n",
       "mean       22.358202      22.045283      20.038836       8.289315\n",
       "std        32.834781      33.988589      32.373985      52.950912\n",
       "min         0.000000       0.000000    -134.860016       0.005000\n",
       "25%         6.450000       5.500000       5.500000       1.000000\n",
       "50%        12.220000      13.000000      10.661362       2.000000\n",
       "75%        24.000000      26.000000      21.000000       5.000000\n",
       "max      1760.120000    1000.000000    8167.000000   15000.000000"
      ]
     },
     "execution_count": 33,
     "metadata": {},
     "output_type": "execute_result"
    }
   ],
   "source": [
    "df.describe()"
   ]
  },
  {
   "cell_type": "markdown",
   "id": "5f48d1d9",
   "metadata": {},
   "source": [
    "## ***"
   ]
  },
  {
   "cell_type": "markdown",
   "id": "68cd0cf9",
   "metadata": {},
   "source": [
    "\n",
    "<ol>\n",
    "  <li>**Now as we fill null values in companies we want to know the values used in the products**</li>\n",
    "  <li>**we need to take a look in the -2 values in properties may be we change it to type 2**</li>\n",
    "<ol>    "
   ]
  },
  {
   "cell_type": "code",
   "execution_count": 34,
   "id": "df6bb929",
   "metadata": {
    "scrolled": false
   },
   "outputs": [
    {
     "data": {
      "text/plain": [
       "date_            0\n",
       "clintname        0\n",
       "accountid        0\n",
       "productname      0\n",
       "productid        0\n",
       "companyid        0\n",
       "category1        0\n",
       "category3        0\n",
       "invoicesid       0\n",
       "unitsellprice    0\n",
       "consumerprice    0\n",
       "costprice        0\n",
       "qty              0\n",
       "dtype: int64"
      ]
     },
     "execution_count": 34,
     "metadata": {},
     "output_type": "execute_result"
    }
   ],
   "source": [
    "df[ df['companyid'] == 0].count()"
   ]
  },
  {
   "cell_type": "markdown",
   "id": "37295a69",
   "metadata": {},
   "source": [
    "**replace -1 with 2 in prop dataframe then we check**"
   ]
  },
  {
   "cell_type": "code",
   "execution_count": 35,
   "id": "8fe57fda",
   "metadata": {},
   "outputs": [],
   "source": [
    "prop.replace({'proprties_type': {-1: 2}}, inplace=True)"
   ]
  },
  {
   "cell_type": "code",
   "execution_count": 36,
   "id": "1ce24d79",
   "metadata": {},
   "outputs": [
    {
     "data": {
      "text/plain": [
       "2    164\n",
       "1      3\n",
       "Name: proprties_type, dtype: int64"
      ]
     },
     "execution_count": 36,
     "metadata": {},
     "output_type": "execute_result"
    }
   ],
   "source": [
    "prop['proprties_type'].value_counts()"
   ]
  },
  {
   "cell_type": "code",
   "execution_count": 37,
   "id": "e16558f0",
   "metadata": {
    "scrolled": true
   },
   "outputs": [
    {
     "data": {
      "text/html": [
       "<div>\n",
       "<style scoped>\n",
       "    .dataframe tbody tr th:only-of-type {\n",
       "        vertical-align: middle;\n",
       "    }\n",
       "\n",
       "    .dataframe tbody tr th {\n",
       "        vertical-align: top;\n",
       "    }\n",
       "\n",
       "    .dataframe thead th {\n",
       "        text-align: right;\n",
       "    }\n",
       "</style>\n",
       "<table border=\"1\" class=\"dataframe\">\n",
       "  <thead>\n",
       "    <tr style=\"text-align: right;\">\n",
       "      <th></th>\n",
       "      <th>proprties_id</th>\n",
       "      <th>proprties_name</th>\n",
       "      <th>proprties_type</th>\n",
       "    </tr>\n",
       "  </thead>\n",
       "  <tbody>\n",
       "    <tr>\n",
       "      <th>0</th>\n",
       "      <td>1</td>\n",
       "      <td>اكسسوار</td>\n",
       "      <td>1</td>\n",
       "    </tr>\n",
       "    <tr>\n",
       "      <th>1</th>\n",
       "      <td>164</td>\n",
       "      <td>مبيدات</td>\n",
       "      <td>2</td>\n",
       "    </tr>\n",
       "    <tr>\n",
       "      <th>2</th>\n",
       "      <td>2</td>\n",
       "      <td>مستلزمات</td>\n",
       "      <td>1</td>\n",
       "    </tr>\n",
       "    <tr>\n",
       "      <th>3</th>\n",
       "      <td>3</td>\n",
       "      <td>ورقيات</td>\n",
       "      <td>1</td>\n",
       "    </tr>\n",
       "    <tr>\n",
       "      <th>4</th>\n",
       "      <td>165</td>\n",
       "      <td>مكواة شعر</td>\n",
       "      <td>2</td>\n",
       "    </tr>\n",
       "  </tbody>\n",
       "</table>\n",
       "</div>"
      ],
      "text/plain": [
       "   proprties_id proprties_name  proprties_type\n",
       "0             1        اكسسوار               1\n",
       "1           164         مبيدات               2\n",
       "2             2       مستلزمات               1\n",
       "3             3         ورقيات               1\n",
       "4           165      مكواة شعر               2"
      ]
     },
     "execution_count": 37,
     "metadata": {},
     "output_type": "execute_result"
    }
   ],
   "source": [
    "prop.head()"
   ]
  },
  {
   "cell_type": "markdown",
   "id": "d16b9c57",
   "metadata": {},
   "source": [
    "**now we merge the 4 dataframes in one data frame**"
   ]
  },
  {
   "cell_type": "markdown",
   "id": "9df7ef89",
   "metadata": {},
   "source": [
    "looks like we need to change the type to int for all the ids in the other dataframes"
   ]
  },
  {
   "cell_type": "markdown",
   "id": "601fb6d1",
   "metadata": {},
   "source": [
    "## ***"
   ]
  },
  {
   "cell_type": "code",
   "execution_count": 38,
   "id": "505caa39",
   "metadata": {},
   "outputs": [],
   "source": [
    "#change the type for proprties_id to object\n",
    "prop = prop.astype({\"proprties_id\": str}, errors='raise')"
   ]
  },
  {
   "cell_type": "code",
   "execution_count": 39,
   "id": "1ab992d1",
   "metadata": {},
   "outputs": [],
   "source": [
    "df1=df.merge(prop, left_on='category1', right_on=('proprties_id'))"
   ]
  },
  {
   "cell_type": "code",
   "execution_count": 40,
   "id": "94770eca",
   "metadata": {},
   "outputs": [],
   "source": [
    "df2=df1.merge(prop, left_on='category3', right_on='proprties_id')"
   ]
  },
  {
   "cell_type": "code",
   "execution_count": 41,
   "id": "62b65e5b",
   "metadata": {},
   "outputs": [],
   "source": [
    "#change the type for cop_id to object\n",
    "comp = comp.astype({\"cop_id\": str}, errors='raise')"
   ]
  },
  {
   "cell_type": "code",
   "execution_count": 42,
   "id": "7bbef97c",
   "metadata": {},
   "outputs": [],
   "source": [
    "df3=df2.merge(comp, left_on='companyid', right_on='cop_id')"
   ]
  },
  {
   "cell_type": "code",
   "execution_count": 43,
   "id": "8230877a",
   "metadata": {},
   "outputs": [],
   "source": [
    "#change the type for account_id to object\n",
    "AccRegion = AccRegion.astype({\"client_id\": str}, errors='raise')"
   ]
  },
  {
   "cell_type": "code",
   "execution_count": 44,
   "id": "04ab34fa",
   "metadata": {},
   "outputs": [],
   "source": [
    "df4=df3.merge(AccRegion, left_on='accountid', right_on='client_id')"
   ]
  },
  {
   "cell_type": "markdown",
   "id": "75124487",
   "metadata": {},
   "source": [
    "## ***"
   ]
  },
  {
   "cell_type": "markdown",
   "id": "3235a6a2",
   "metadata": {},
   "source": [
    "**now as we finished the merge and data types updateing .. let's check our new data and compre it with original**"
   ]
  },
  {
   "cell_type": "code",
   "execution_count": 45,
   "id": "1fb98573",
   "metadata": {
    "scrolled": true
   },
   "outputs": [
    {
     "data": {
      "text/html": [
       "<div>\n",
       "<style scoped>\n",
       "    .dataframe tbody tr th:only-of-type {\n",
       "        vertical-align: middle;\n",
       "    }\n",
       "\n",
       "    .dataframe tbody tr th {\n",
       "        vertical-align: top;\n",
       "    }\n",
       "\n",
       "    .dataframe thead th {\n",
       "        text-align: right;\n",
       "    }\n",
       "</style>\n",
       "<table border=\"1\" class=\"dataframe\">\n",
       "  <thead>\n",
       "    <tr style=\"text-align: right;\">\n",
       "      <th></th>\n",
       "      <th>date_</th>\n",
       "      <th>clintname</th>\n",
       "      <th>accountid</th>\n",
       "      <th>productname</th>\n",
       "      <th>productid</th>\n",
       "      <th>companyid</th>\n",
       "      <th>category1</th>\n",
       "      <th>category3</th>\n",
       "      <th>invoicesid</th>\n",
       "      <th>unitsellprice</th>\n",
       "      <th>...</th>\n",
       "      <th>proprties_type_x</th>\n",
       "      <th>proprties_id_y</th>\n",
       "      <th>proprties_name_y</th>\n",
       "      <th>proprties_type_y</th>\n",
       "      <th>cop_id</th>\n",
       "      <th>cop_name</th>\n",
       "      <th>client_name</th>\n",
       "      <th>client_id</th>\n",
       "      <th>location_id</th>\n",
       "      <th>location_name</th>\n",
       "    </tr>\n",
       "  </thead>\n",
       "  <tbody>\n",
       "    <tr>\n",
       "      <th>0</th>\n",
       "      <td>2020-05-03</td>\n",
       "      <td>clint2042</td>\n",
       "      <td>1951</td>\n",
       "      <td>سويت حرير مزيل شعر</td>\n",
       "      <td>5307</td>\n",
       "      <td>31</td>\n",
       "      <td>1</td>\n",
       "      <td>26</td>\n",
       "      <td>3</td>\n",
       "      <td>4.31958</td>\n",
       "      <td>...</td>\n",
       "      <td>1</td>\n",
       "      <td>26</td>\n",
       "      <td>ازالة شعر</td>\n",
       "      <td>2</td>\n",
       "      <td>31</td>\n",
       "      <td>متنوع</td>\n",
       "      <td>clint2042</td>\n",
       "      <td>1951</td>\n",
       "      <td>65</td>\n",
       "      <td>Region11135</td>\n",
       "    </tr>\n",
       "    <tr>\n",
       "      <th>1</th>\n",
       "      <td>2020-05-11</td>\n",
       "      <td>clint2042</td>\n",
       "      <td>1951</td>\n",
       "      <td>سويت حرير مزيل شعر</td>\n",
       "      <td>5307</td>\n",
       "      <td>31</td>\n",
       "      <td>1</td>\n",
       "      <td>26</td>\n",
       "      <td>1279</td>\n",
       "      <td>4.31958</td>\n",
       "      <td>...</td>\n",
       "      <td>1</td>\n",
       "      <td>26</td>\n",
       "      <td>ازالة شعر</td>\n",
       "      <td>2</td>\n",
       "      <td>31</td>\n",
       "      <td>متنوع</td>\n",
       "      <td>clint2042</td>\n",
       "      <td>1951</td>\n",
       "      <td>65</td>\n",
       "      <td>Region11135</td>\n",
       "    </tr>\n",
       "    <tr>\n",
       "      <th>2</th>\n",
       "      <td>2021-07-08</td>\n",
       "      <td>clint2042</td>\n",
       "      <td>1951</td>\n",
       "      <td>افوفا سويت(بالفواكه)2قطعة للوجة والاماكن الحساسه</td>\n",
       "      <td>6987</td>\n",
       "      <td>31</td>\n",
       "      <td>1</td>\n",
       "      <td>26</td>\n",
       "      <td>29867</td>\n",
       "      <td>13.19000</td>\n",
       "      <td>...</td>\n",
       "      <td>1</td>\n",
       "      <td>26</td>\n",
       "      <td>ازالة شعر</td>\n",
       "      <td>2</td>\n",
       "      <td>31</td>\n",
       "      <td>متنوع</td>\n",
       "      <td>clint2042</td>\n",
       "      <td>1951</td>\n",
       "      <td>65</td>\n",
       "      <td>Region11135</td>\n",
       "    </tr>\n",
       "    <tr>\n",
       "      <th>3</th>\n",
       "      <td>2021-07-08</td>\n",
       "      <td>clint2042</td>\n",
       "      <td>1951</td>\n",
       "      <td>افوفا سويت (فلورا) 2قطعه للوجه والاماكن الحساسة</td>\n",
       "      <td>6989</td>\n",
       "      <td>31</td>\n",
       "      <td>1</td>\n",
       "      <td>26</td>\n",
       "      <td>29867</td>\n",
       "      <td>13.19000</td>\n",
       "      <td>...</td>\n",
       "      <td>1</td>\n",
       "      <td>26</td>\n",
       "      <td>ازالة شعر</td>\n",
       "      <td>2</td>\n",
       "      <td>31</td>\n",
       "      <td>متنوع</td>\n",
       "      <td>clint2042</td>\n",
       "      <td>1951</td>\n",
       "      <td>65</td>\n",
       "      <td>Region11135</td>\n",
       "    </tr>\n",
       "    <tr>\n",
       "      <th>4</th>\n",
       "      <td>2021-07-08</td>\n",
       "      <td>clint2042</td>\n",
       "      <td>1951</td>\n",
       "      <td>افوفا سويت (كريز)2قطعه للوجه والاماكن الحساسة</td>\n",
       "      <td>6988</td>\n",
       "      <td>31</td>\n",
       "      <td>1</td>\n",
       "      <td>26</td>\n",
       "      <td>29867</td>\n",
       "      <td>13.19000</td>\n",
       "      <td>...</td>\n",
       "      <td>1</td>\n",
       "      <td>26</td>\n",
       "      <td>ازالة شعر</td>\n",
       "      <td>2</td>\n",
       "      <td>31</td>\n",
       "      <td>متنوع</td>\n",
       "      <td>clint2042</td>\n",
       "      <td>1951</td>\n",
       "      <td>65</td>\n",
       "      <td>Region11135</td>\n",
       "    </tr>\n",
       "  </tbody>\n",
       "</table>\n",
       "<p>5 rows × 25 columns</p>\n",
       "</div>"
      ],
      "text/plain": [
       "       date_  clintname accountid  \\\n",
       "0 2020-05-03  clint2042      1951   \n",
       "1 2020-05-11  clint2042      1951   \n",
       "2 2021-07-08  clint2042      1951   \n",
       "3 2021-07-08  clint2042      1951   \n",
       "4 2021-07-08  clint2042      1951   \n",
       "\n",
       "                                        productname productid companyid  \\\n",
       "0                                سويت حرير مزيل شعر      5307        31   \n",
       "1                                سويت حرير مزيل شعر      5307        31   \n",
       "2  افوفا سويت(بالفواكه)2قطعة للوجة والاماكن الحساسه      6987        31   \n",
       "3   افوفا سويت (فلورا) 2قطعه للوجه والاماكن الحساسة      6989        31   \n",
       "4     افوفا سويت (كريز)2قطعه للوجه والاماكن الحساسة      6988        31   \n",
       "\n",
       "  category1 category3 invoicesid  unitsellprice  ...  proprties_type_x  \\\n",
       "0         1        26          3        4.31958  ...                 1   \n",
       "1         1        26       1279        4.31958  ...                 1   \n",
       "2         1        26      29867       13.19000  ...                 1   \n",
       "3         1        26      29867       13.19000  ...                 1   \n",
       "4         1        26      29867       13.19000  ...                 1   \n",
       "\n",
       "   proprties_id_y  proprties_name_y proprties_type_y cop_id  cop_name  \\\n",
       "0              26         ازالة شعر                2     31     متنوع   \n",
       "1              26         ازالة شعر                2     31     متنوع   \n",
       "2              26         ازالة شعر                2     31     متنوع   \n",
       "3              26         ازالة شعر                2     31     متنوع   \n",
       "4              26         ازالة شعر                2     31     متنوع   \n",
       "\n",
       "  client_name client_id  location_id location_name  \n",
       "0   clint2042      1951           65   Region11135  \n",
       "1   clint2042      1951           65   Region11135  \n",
       "2   clint2042      1951           65   Region11135  \n",
       "3   clint2042      1951           65   Region11135  \n",
       "4   clint2042      1951           65   Region11135  \n",
       "\n",
       "[5 rows x 25 columns]"
      ]
     },
     "execution_count": 45,
     "metadata": {},
     "output_type": "execute_result"
    }
   ],
   "source": [
    "df4.head()"
   ]
  },
  {
   "cell_type": "code",
   "execution_count": 46,
   "id": "db60eb4f",
   "metadata": {
    "scrolled": true
   },
   "outputs": [
    {
     "name": "stdout",
     "output_type": "stream",
     "text": [
      "this the shape for the new data(474345, 25) .. and this is for the old one(523318, 13) \n"
     ]
    }
   ],
   "source": [
    "#the shape of data from the beginig and the end\n",
    "print('this the shape for the new data{} .. and this is for the old one{} '.format(df4.shape , df.shape) ) "
   ]
  },
  {
   "cell_type": "markdown",
   "id": "67b445bb",
   "metadata": {},
   "source": [
    "**there is 48937 row were lost for products without companies or categories**"
   ]
  },
  {
   "cell_type": "code",
   "execution_count": 47,
   "id": "74dc2729",
   "metadata": {
    "scrolled": true
   },
   "outputs": [
    {
     "data": {
      "text/html": [
       "<div>\n",
       "<style scoped>\n",
       "    .dataframe tbody tr th:only-of-type {\n",
       "        vertical-align: middle;\n",
       "    }\n",
       "\n",
       "    .dataframe tbody tr th {\n",
       "        vertical-align: top;\n",
       "    }\n",
       "\n",
       "    .dataframe thead th {\n",
       "        text-align: right;\n",
       "    }\n",
       "</style>\n",
       "<table border=\"1\" class=\"dataframe\">\n",
       "  <thead>\n",
       "    <tr style=\"text-align: right;\">\n",
       "      <th></th>\n",
       "      <th>unitsellprice</th>\n",
       "      <th>consumerprice</th>\n",
       "      <th>costprice</th>\n",
       "      <th>qty</th>\n",
       "      <th>proprties_type_x</th>\n",
       "      <th>proprties_type_y</th>\n",
       "      <th>location_id</th>\n",
       "    </tr>\n",
       "  </thead>\n",
       "  <tbody>\n",
       "    <tr>\n",
       "      <th>count</th>\n",
       "      <td>474345.000000</td>\n",
       "      <td>474345.000000</td>\n",
       "      <td>474345.000000</td>\n",
       "      <td>474345.000000</td>\n",
       "      <td>474345.0</td>\n",
       "      <td>474345.0</td>\n",
       "      <td>474345.000000</td>\n",
       "    </tr>\n",
       "    <tr>\n",
       "      <th>mean</th>\n",
       "      <td>21.385665</td>\n",
       "      <td>20.737837</td>\n",
       "      <td>19.175479</td>\n",
       "      <td>8.404366</td>\n",
       "      <td>1.0</td>\n",
       "      <td>2.0</td>\n",
       "      <td>36.235059</td>\n",
       "    </tr>\n",
       "    <tr>\n",
       "      <th>std</th>\n",
       "      <td>30.006782</td>\n",
       "      <td>29.545208</td>\n",
       "      <td>30.217196</td>\n",
       "      <td>39.377545</td>\n",
       "      <td>0.0</td>\n",
       "      <td>0.0</td>\n",
       "      <td>26.566866</td>\n",
       "    </tr>\n",
       "    <tr>\n",
       "      <th>min</th>\n",
       "      <td>0.000000</td>\n",
       "      <td>0.000000</td>\n",
       "      <td>-134.860016</td>\n",
       "      <td>0.250000</td>\n",
       "      <td>1.0</td>\n",
       "      <td>2.0</td>\n",
       "      <td>1.000000</td>\n",
       "    </tr>\n",
       "    <tr>\n",
       "      <th>25%</th>\n",
       "      <td>6.235000</td>\n",
       "      <td>5.500000</td>\n",
       "      <td>5.399889</td>\n",
       "      <td>1.000000</td>\n",
       "      <td>1.0</td>\n",
       "      <td>2.0</td>\n",
       "      <td>12.000000</td>\n",
       "    </tr>\n",
       "    <tr>\n",
       "      <th>50%</th>\n",
       "      <td>11.965000</td>\n",
       "      <td>12.000000</td>\n",
       "      <td>10.420588</td>\n",
       "      <td>2.000000</td>\n",
       "      <td>1.0</td>\n",
       "      <td>2.0</td>\n",
       "      <td>32.000000</td>\n",
       "    </tr>\n",
       "    <tr>\n",
       "      <th>75%</th>\n",
       "      <td>23.630000</td>\n",
       "      <td>25.000000</td>\n",
       "      <td>20.333000</td>\n",
       "      <td>5.000000</td>\n",
       "      <td>1.0</td>\n",
       "      <td>2.0</td>\n",
       "      <td>61.000000</td>\n",
       "    </tr>\n",
       "    <tr>\n",
       "      <th>max</th>\n",
       "      <td>595.040000</td>\n",
       "      <td>725.000000</td>\n",
       "      <td>8167.000000</td>\n",
       "      <td>3000.000000</td>\n",
       "      <td>1.0</td>\n",
       "      <td>2.0</td>\n",
       "      <td>87.000000</td>\n",
       "    </tr>\n",
       "  </tbody>\n",
       "</table>\n",
       "</div>"
      ],
      "text/plain": [
       "       unitsellprice  consumerprice      costprice            qty  \\\n",
       "count  474345.000000  474345.000000  474345.000000  474345.000000   \n",
       "mean       21.385665      20.737837      19.175479       8.404366   \n",
       "std        30.006782      29.545208      30.217196      39.377545   \n",
       "min         0.000000       0.000000    -134.860016       0.250000   \n",
       "25%         6.235000       5.500000       5.399889       1.000000   \n",
       "50%        11.965000      12.000000      10.420588       2.000000   \n",
       "75%        23.630000      25.000000      20.333000       5.000000   \n",
       "max       595.040000     725.000000    8167.000000    3000.000000   \n",
       "\n",
       "       proprties_type_x  proprties_type_y    location_id  \n",
       "count          474345.0          474345.0  474345.000000  \n",
       "mean                1.0               2.0      36.235059  \n",
       "std                 0.0               0.0      26.566866  \n",
       "min                 1.0               2.0       1.000000  \n",
       "25%                 1.0               2.0      12.000000  \n",
       "50%                 1.0               2.0      32.000000  \n",
       "75%                 1.0               2.0      61.000000  \n",
       "max                 1.0               2.0      87.000000  "
      ]
     },
     "execution_count": 47,
     "metadata": {},
     "output_type": "execute_result"
    }
   ],
   "source": [
    "df4.describe()"
   ]
  },
  {
   "cell_type": "code",
   "execution_count": 48,
   "id": "cd1281eb",
   "metadata": {
    "scrolled": true
   },
   "outputs": [
    {
     "name": "stdout",
     "output_type": "stream",
     "text": [
      "<class 'pandas.core.frame.DataFrame'>\n",
      "Int64Index: 474345 entries, 0 to 474344\n",
      "Data columns (total 25 columns):\n",
      " #   Column            Non-Null Count   Dtype         \n",
      "---  ------            --------------   -----         \n",
      " 0   date_             474345 non-null  datetime64[ns]\n",
      " 1   clintname         474345 non-null  object        \n",
      " 2   accountid         474345 non-null  object        \n",
      " 3   productname       474345 non-null  object        \n",
      " 4   productid         474345 non-null  object        \n",
      " 5   companyid         474345 non-null  object        \n",
      " 6   category1         474345 non-null  object        \n",
      " 7   category3         474345 non-null  object        \n",
      " 8   invoicesid        474345 non-null  object        \n",
      " 9   unitsellprice     474345 non-null  float64       \n",
      " 10  consumerprice     474345 non-null  float64       \n",
      " 11  costprice         474345 non-null  float64       \n",
      " 12  qty               474345 non-null  float64       \n",
      " 13  proprties_id_x    474345 non-null  object        \n",
      " 14  proprties_name_x  474345 non-null  object        \n",
      " 15  proprties_type_x  474345 non-null  int64         \n",
      " 16  proprties_id_y    474345 non-null  object        \n",
      " 17  proprties_name_y  474345 non-null  object        \n",
      " 18  proprties_type_y  474345 non-null  int64         \n",
      " 19  cop_id            474345 non-null  object        \n",
      " 20  cop_name          474345 non-null  object        \n",
      " 21  client_name       474345 non-null  object        \n",
      " 22  client_id         474345 non-null  object        \n",
      " 23  location_id       474345 non-null  int64         \n",
      " 24  location_name     474345 non-null  object        \n",
      "dtypes: datetime64[ns](1), float64(4), int64(3), object(17)\n",
      "memory usage: 94.1+ MB\n"
     ]
    }
   ],
   "source": [
    "df4.info()"
   ]
  },
  {
   "cell_type": "code",
   "execution_count": 49,
   "id": "051323f6",
   "metadata": {
    "scrolled": false
   },
   "outputs": [
    {
     "data": {
      "text/html": [
       "<div>\n",
       "<style scoped>\n",
       "    .dataframe tbody tr th:only-of-type {\n",
       "        vertical-align: middle;\n",
       "    }\n",
       "\n",
       "    .dataframe tbody tr th {\n",
       "        vertical-align: top;\n",
       "    }\n",
       "\n",
       "    .dataframe thead th {\n",
       "        text-align: right;\n",
       "    }\n",
       "</style>\n",
       "<table border=\"1\" class=\"dataframe\">\n",
       "  <thead>\n",
       "    <tr style=\"text-align: right;\">\n",
       "      <th></th>\n",
       "      <th>date_</th>\n",
       "      <th>clintname</th>\n",
       "      <th>accountid</th>\n",
       "      <th>productname</th>\n",
       "      <th>productid</th>\n",
       "      <th>companyid</th>\n",
       "      <th>category1</th>\n",
       "      <th>category3</th>\n",
       "      <th>invoicesid</th>\n",
       "      <th>unitsellprice</th>\n",
       "      <th>...</th>\n",
       "      <th>proprties_type_x</th>\n",
       "      <th>proprties_id_y</th>\n",
       "      <th>proprties_name_y</th>\n",
       "      <th>proprties_type_y</th>\n",
       "      <th>cop_id</th>\n",
       "      <th>cop_name</th>\n",
       "      <th>client_name</th>\n",
       "      <th>client_id</th>\n",
       "      <th>location_id</th>\n",
       "      <th>location_name</th>\n",
       "    </tr>\n",
       "  </thead>\n",
       "  <tbody>\n",
       "    <tr>\n",
       "      <th>0</th>\n",
       "      <td>2020-05-03</td>\n",
       "      <td>clint2042</td>\n",
       "      <td>1951</td>\n",
       "      <td>سويت حرير مزيل شعر</td>\n",
       "      <td>5307</td>\n",
       "      <td>31</td>\n",
       "      <td>1</td>\n",
       "      <td>26</td>\n",
       "      <td>3</td>\n",
       "      <td>4.31958</td>\n",
       "      <td>...</td>\n",
       "      <td>1</td>\n",
       "      <td>26</td>\n",
       "      <td>ازالة شعر</td>\n",
       "      <td>2</td>\n",
       "      <td>31</td>\n",
       "      <td>متنوع</td>\n",
       "      <td>clint2042</td>\n",
       "      <td>1951</td>\n",
       "      <td>65</td>\n",
       "      <td>Region11135</td>\n",
       "    </tr>\n",
       "    <tr>\n",
       "      <th>1</th>\n",
       "      <td>2020-05-11</td>\n",
       "      <td>clint2042</td>\n",
       "      <td>1951</td>\n",
       "      <td>سويت حرير مزيل شعر</td>\n",
       "      <td>5307</td>\n",
       "      <td>31</td>\n",
       "      <td>1</td>\n",
       "      <td>26</td>\n",
       "      <td>1279</td>\n",
       "      <td>4.31958</td>\n",
       "      <td>...</td>\n",
       "      <td>1</td>\n",
       "      <td>26</td>\n",
       "      <td>ازالة شعر</td>\n",
       "      <td>2</td>\n",
       "      <td>31</td>\n",
       "      <td>متنوع</td>\n",
       "      <td>clint2042</td>\n",
       "      <td>1951</td>\n",
       "      <td>65</td>\n",
       "      <td>Region11135</td>\n",
       "    </tr>\n",
       "    <tr>\n",
       "      <th>2</th>\n",
       "      <td>2021-07-08</td>\n",
       "      <td>clint2042</td>\n",
       "      <td>1951</td>\n",
       "      <td>افوفا سويت(بالفواكه)2قطعة للوجة والاماكن الحساسه</td>\n",
       "      <td>6987</td>\n",
       "      <td>31</td>\n",
       "      <td>1</td>\n",
       "      <td>26</td>\n",
       "      <td>29867</td>\n",
       "      <td>13.19000</td>\n",
       "      <td>...</td>\n",
       "      <td>1</td>\n",
       "      <td>26</td>\n",
       "      <td>ازالة شعر</td>\n",
       "      <td>2</td>\n",
       "      <td>31</td>\n",
       "      <td>متنوع</td>\n",
       "      <td>clint2042</td>\n",
       "      <td>1951</td>\n",
       "      <td>65</td>\n",
       "      <td>Region11135</td>\n",
       "    </tr>\n",
       "    <tr>\n",
       "      <th>3</th>\n",
       "      <td>2021-07-08</td>\n",
       "      <td>clint2042</td>\n",
       "      <td>1951</td>\n",
       "      <td>افوفا سويت (فلورا) 2قطعه للوجه والاماكن الحساسة</td>\n",
       "      <td>6989</td>\n",
       "      <td>31</td>\n",
       "      <td>1</td>\n",
       "      <td>26</td>\n",
       "      <td>29867</td>\n",
       "      <td>13.19000</td>\n",
       "      <td>...</td>\n",
       "      <td>1</td>\n",
       "      <td>26</td>\n",
       "      <td>ازالة شعر</td>\n",
       "      <td>2</td>\n",
       "      <td>31</td>\n",
       "      <td>متنوع</td>\n",
       "      <td>clint2042</td>\n",
       "      <td>1951</td>\n",
       "      <td>65</td>\n",
       "      <td>Region11135</td>\n",
       "    </tr>\n",
       "    <tr>\n",
       "      <th>4</th>\n",
       "      <td>2021-07-08</td>\n",
       "      <td>clint2042</td>\n",
       "      <td>1951</td>\n",
       "      <td>افوفا سويت (كريز)2قطعه للوجه والاماكن الحساسة</td>\n",
       "      <td>6988</td>\n",
       "      <td>31</td>\n",
       "      <td>1</td>\n",
       "      <td>26</td>\n",
       "      <td>29867</td>\n",
       "      <td>13.19000</td>\n",
       "      <td>...</td>\n",
       "      <td>1</td>\n",
       "      <td>26</td>\n",
       "      <td>ازالة شعر</td>\n",
       "      <td>2</td>\n",
       "      <td>31</td>\n",
       "      <td>متنوع</td>\n",
       "      <td>clint2042</td>\n",
       "      <td>1951</td>\n",
       "      <td>65</td>\n",
       "      <td>Region11135</td>\n",
       "    </tr>\n",
       "  </tbody>\n",
       "</table>\n",
       "<p>5 rows × 25 columns</p>\n",
       "</div>"
      ],
      "text/plain": [
       "       date_  clintname accountid  \\\n",
       "0 2020-05-03  clint2042      1951   \n",
       "1 2020-05-11  clint2042      1951   \n",
       "2 2021-07-08  clint2042      1951   \n",
       "3 2021-07-08  clint2042      1951   \n",
       "4 2021-07-08  clint2042      1951   \n",
       "\n",
       "                                        productname productid companyid  \\\n",
       "0                                سويت حرير مزيل شعر      5307        31   \n",
       "1                                سويت حرير مزيل شعر      5307        31   \n",
       "2  افوفا سويت(بالفواكه)2قطعة للوجة والاماكن الحساسه      6987        31   \n",
       "3   افوفا سويت (فلورا) 2قطعه للوجه والاماكن الحساسة      6989        31   \n",
       "4     افوفا سويت (كريز)2قطعه للوجه والاماكن الحساسة      6988        31   \n",
       "\n",
       "  category1 category3 invoicesid  unitsellprice  ...  proprties_type_x  \\\n",
       "0         1        26          3        4.31958  ...                 1   \n",
       "1         1        26       1279        4.31958  ...                 1   \n",
       "2         1        26      29867       13.19000  ...                 1   \n",
       "3         1        26      29867       13.19000  ...                 1   \n",
       "4         1        26      29867       13.19000  ...                 1   \n",
       "\n",
       "   proprties_id_y  proprties_name_y proprties_type_y cop_id  cop_name  \\\n",
       "0              26         ازالة شعر                2     31     متنوع   \n",
       "1              26         ازالة شعر                2     31     متنوع   \n",
       "2              26         ازالة شعر                2     31     متنوع   \n",
       "3              26         ازالة شعر                2     31     متنوع   \n",
       "4              26         ازالة شعر                2     31     متنوع   \n",
       "\n",
       "  client_name client_id  location_id location_name  \n",
       "0   clint2042      1951           65   Region11135  \n",
       "1   clint2042      1951           65   Region11135  \n",
       "2   clint2042      1951           65   Region11135  \n",
       "3   clint2042      1951           65   Region11135  \n",
       "4   clint2042      1951           65   Region11135  \n",
       "\n",
       "[5 rows x 25 columns]"
      ]
     },
     "execution_count": 49,
     "metadata": {},
     "output_type": "execute_result"
    }
   ],
   "source": [
    "df4.head()"
   ]
  },
  {
   "cell_type": "code",
   "execution_count": null,
   "id": "ca8b2b44",
   "metadata": {},
   "outputs": [],
   "source": []
  },
  {
   "cell_type": "code",
   "execution_count": 50,
   "id": "9c398e8a",
   "metadata": {
    "scrolled": false
   },
   "outputs": [
    {
     "name": "stdout",
     "output_type": "stream",
     "text": [
      "0 date_\n",
      "1 clintname\n",
      "2 accountid\n",
      "3 productname\n",
      "4 productid\n",
      "5 companyid\n",
      "6 category1\n",
      "7 category3\n",
      "8 invoicesid\n",
      "9 unitsellprice\n",
      "10 consumerprice\n",
      "11 costprice\n",
      "12 qty\n",
      "13 proprties_id_x\n",
      "14 proprties_name_x\n",
      "15 proprties_type_x\n",
      "16 proprties_id_y\n",
      "17 proprties_name_y\n",
      "18 proprties_type_y\n",
      "19 cop_id\n",
      "20 cop_name\n",
      "21 client_name\n",
      "22 client_id\n",
      "23 location_id\n",
      "24 location_name\n"
     ]
    }
   ],
   "source": [
    "for i, v in enumerate(df4.columns):\n",
    "    print(i, v)\n"
   ]
  },
  {
   "cell_type": "markdown",
   "id": "357affcd",
   "metadata": {},
   "source": [
    "**Now we will drop the needed coulmns ( accountid, productid, companyid, category1, category3, proprties_id_x, proprties_type_x, proprties_id_y, proprties_type_y, cop_id, client_id and location_id) and rename the other coulmns to describtice names**"
   ]
  },
  {
   "cell_type": "markdown",
   "id": "94e63f74",
   "metadata": {},
   "source": [
    "<a id='cleaning'></a>\n",
    "## Data Cleaning\n",
    "Second, we will delete the columns that are not necessary"
   ]
  },
  {
   "cell_type": "code",
   "execution_count": 51,
   "id": "e54fa9e1",
   "metadata": {},
   "outputs": [],
   "source": [
    "#drop coulmns\n",
    "df4.drop(['accountid', 'productid', 'companyid', 'category1', 'category3', 'proprties_id_x', 'proprties_type_x', 'proprties_id_y', 'proprties_type_y', 'cop_id', 'client_id' , 'location_id'],inplace = True , axis = 1)"
   ]
  },
  {
   "cell_type": "code",
   "execution_count": 52,
   "id": "012f8540",
   "metadata": {},
   "outputs": [
    {
     "data": {
      "text/html": [
       "<div>\n",
       "<style scoped>\n",
       "    .dataframe tbody tr th:only-of-type {\n",
       "        vertical-align: middle;\n",
       "    }\n",
       "\n",
       "    .dataframe tbody tr th {\n",
       "        vertical-align: top;\n",
       "    }\n",
       "\n",
       "    .dataframe thead th {\n",
       "        text-align: right;\n",
       "    }\n",
       "</style>\n",
       "<table border=\"1\" class=\"dataframe\">\n",
       "  <thead>\n",
       "    <tr style=\"text-align: right;\">\n",
       "      <th></th>\n",
       "      <th>date_</th>\n",
       "      <th>clintname</th>\n",
       "      <th>productname</th>\n",
       "      <th>invoicesid</th>\n",
       "      <th>unitsellprice</th>\n",
       "      <th>consumerprice</th>\n",
       "      <th>costprice</th>\n",
       "      <th>qty</th>\n",
       "      <th>proprties_name_x</th>\n",
       "      <th>proprties_name_y</th>\n",
       "      <th>cop_name</th>\n",
       "      <th>client_name</th>\n",
       "      <th>location_name</th>\n",
       "    </tr>\n",
       "  </thead>\n",
       "  <tbody>\n",
       "    <tr>\n",
       "      <th>0</th>\n",
       "      <td>2020-05-03</td>\n",
       "      <td>clint2042</td>\n",
       "      <td>سويت حرير مزيل شعر</td>\n",
       "      <td>3</td>\n",
       "      <td>4.31958</td>\n",
       "      <td>9.0</td>\n",
       "      <td>3.750000</td>\n",
       "      <td>24.0</td>\n",
       "      <td>اكسسوار</td>\n",
       "      <td>ازالة شعر</td>\n",
       "      <td>متنوع</td>\n",
       "      <td>clint2042</td>\n",
       "      <td>Region11135</td>\n",
       "    </tr>\n",
       "    <tr>\n",
       "      <th>1</th>\n",
       "      <td>2020-05-11</td>\n",
       "      <td>clint2042</td>\n",
       "      <td>سويت حرير مزيل شعر</td>\n",
       "      <td>1279</td>\n",
       "      <td>4.31958</td>\n",
       "      <td>9.0</td>\n",
       "      <td>3.749680</td>\n",
       "      <td>24.0</td>\n",
       "      <td>اكسسوار</td>\n",
       "      <td>ازالة شعر</td>\n",
       "      <td>متنوع</td>\n",
       "      <td>clint2042</td>\n",
       "      <td>Region11135</td>\n",
       "    </tr>\n",
       "    <tr>\n",
       "      <th>2</th>\n",
       "      <td>2021-07-08</td>\n",
       "      <td>clint2042</td>\n",
       "      <td>افوفا سويت(بالفواكه)2قطعة للوجة والاماكن الحساسه</td>\n",
       "      <td>29867</td>\n",
       "      <td>13.19000</td>\n",
       "      <td>17.0</td>\n",
       "      <td>10.139000</td>\n",
       "      <td>1.0</td>\n",
       "      <td>اكسسوار</td>\n",
       "      <td>ازالة شعر</td>\n",
       "      <td>متنوع</td>\n",
       "      <td>clint2042</td>\n",
       "      <td>Region11135</td>\n",
       "    </tr>\n",
       "    <tr>\n",
       "      <th>3</th>\n",
       "      <td>2021-07-08</td>\n",
       "      <td>clint2042</td>\n",
       "      <td>افوفا سويت (فلورا) 2قطعه للوجه والاماكن الحساسة</td>\n",
       "      <td>29867</td>\n",
       "      <td>13.19000</td>\n",
       "      <td>17.0</td>\n",
       "      <td>10.138800</td>\n",
       "      <td>1.0</td>\n",
       "      <td>اكسسوار</td>\n",
       "      <td>ازالة شعر</td>\n",
       "      <td>متنوع</td>\n",
       "      <td>clint2042</td>\n",
       "      <td>Region11135</td>\n",
       "    </tr>\n",
       "    <tr>\n",
       "      <th>4</th>\n",
       "      <td>2021-07-08</td>\n",
       "      <td>clint2042</td>\n",
       "      <td>افوفا سويت (كريز)2قطعه للوجه والاماكن الحساسة</td>\n",
       "      <td>29867</td>\n",
       "      <td>13.19000</td>\n",
       "      <td>17.0</td>\n",
       "      <td>10.148022</td>\n",
       "      <td>1.0</td>\n",
       "      <td>اكسسوار</td>\n",
       "      <td>ازالة شعر</td>\n",
       "      <td>متنوع</td>\n",
       "      <td>clint2042</td>\n",
       "      <td>Region11135</td>\n",
       "    </tr>\n",
       "  </tbody>\n",
       "</table>\n",
       "</div>"
      ],
      "text/plain": [
       "       date_  clintname                                       productname  \\\n",
       "0 2020-05-03  clint2042                                سويت حرير مزيل شعر   \n",
       "1 2020-05-11  clint2042                                سويت حرير مزيل شعر   \n",
       "2 2021-07-08  clint2042  افوفا سويت(بالفواكه)2قطعة للوجة والاماكن الحساسه   \n",
       "3 2021-07-08  clint2042   افوفا سويت (فلورا) 2قطعه للوجه والاماكن الحساسة   \n",
       "4 2021-07-08  clint2042     افوفا سويت (كريز)2قطعه للوجه والاماكن الحساسة   \n",
       "\n",
       "  invoicesid  unitsellprice  consumerprice  costprice   qty proprties_name_x  \\\n",
       "0          3        4.31958            9.0   3.750000  24.0          اكسسوار   \n",
       "1       1279        4.31958            9.0   3.749680  24.0          اكسسوار   \n",
       "2      29867       13.19000           17.0  10.139000   1.0          اكسسوار   \n",
       "3      29867       13.19000           17.0  10.138800   1.0          اكسسوار   \n",
       "4      29867       13.19000           17.0  10.148022   1.0          اكسسوار   \n",
       "\n",
       "  proprties_name_y cop_name client_name location_name  \n",
       "0        ازالة شعر    متنوع   clint2042   Region11135  \n",
       "1        ازالة شعر    متنوع   clint2042   Region11135  \n",
       "2        ازالة شعر    متنوع   clint2042   Region11135  \n",
       "3        ازالة شعر    متنوع   clint2042   Region11135  \n",
       "4        ازالة شعر    متنوع   clint2042   Region11135  "
      ]
     },
     "execution_count": 52,
     "metadata": {},
     "output_type": "execute_result"
    }
   ],
   "source": [
    "df4.head()"
   ]
  },
  {
   "cell_type": "code",
   "execution_count": 53,
   "id": "1199720e",
   "metadata": {},
   "outputs": [],
   "source": [
    "#rename proprties_name_x ,proprties_name_y and cop_name\n",
    "df4 = df4.rename(columns={\"proprties_name_x\": \"category\", \"proprties_name_y\": \"subcategory\", \"cop_name\": \"manufacturer\"})"
   ]
  },
  {
   "cell_type": "code",
   "execution_count": 54,
   "id": "2f4acaf4",
   "metadata": {},
   "outputs": [],
   "source": [
    "df4.loc[(df4['consumerprice']  > df4['unitsellprice']),'c1'] = df4['consumerprice']- df4['unitsellprice']"
   ]
  },
  {
   "cell_type": "code",
   "execution_count": 55,
   "id": "9fdc9033",
   "metadata": {},
   "outputs": [],
   "source": [
    "df4.loc[(df4['consumerprice']  <= df4['unitsellprice']),'c1'] = 0"
   ]
  },
  {
   "cell_type": "code",
   "execution_count": 56,
   "id": "95262b4b",
   "metadata": {
    "scrolled": true
   },
   "outputs": [
    {
     "data": {
      "text/html": [
       "<div>\n",
       "<style scoped>\n",
       "    .dataframe tbody tr th:only-of-type {\n",
       "        vertical-align: middle;\n",
       "    }\n",
       "\n",
       "    .dataframe tbody tr th {\n",
       "        vertical-align: top;\n",
       "    }\n",
       "\n",
       "    .dataframe thead th {\n",
       "        text-align: right;\n",
       "    }\n",
       "</style>\n",
       "<table border=\"1\" class=\"dataframe\">\n",
       "  <thead>\n",
       "    <tr style=\"text-align: right;\">\n",
       "      <th></th>\n",
       "      <th>date_</th>\n",
       "      <th>clintname</th>\n",
       "      <th>productname</th>\n",
       "      <th>invoicesid</th>\n",
       "      <th>unitsellprice</th>\n",
       "      <th>consumerprice</th>\n",
       "      <th>costprice</th>\n",
       "      <th>qty</th>\n",
       "      <th>category</th>\n",
       "      <th>subcategory</th>\n",
       "      <th>manufacturer</th>\n",
       "      <th>client_name</th>\n",
       "      <th>location_name</th>\n",
       "      <th>c1</th>\n",
       "    </tr>\n",
       "  </thead>\n",
       "  <tbody>\n",
       "    <tr>\n",
       "      <th>0</th>\n",
       "      <td>2020-05-03</td>\n",
       "      <td>clint2042</td>\n",
       "      <td>سويت حرير مزيل شعر</td>\n",
       "      <td>3</td>\n",
       "      <td>4.31958</td>\n",
       "      <td>9.0</td>\n",
       "      <td>3.75</td>\n",
       "      <td>24.0</td>\n",
       "      <td>اكسسوار</td>\n",
       "      <td>ازالة شعر</td>\n",
       "      <td>متنوع</td>\n",
       "      <td>clint2042</td>\n",
       "      <td>Region11135</td>\n",
       "      <td>4.68042</td>\n",
       "    </tr>\n",
       "  </tbody>\n",
       "</table>\n",
       "</div>"
      ],
      "text/plain": [
       "       date_  clintname         productname invoicesid  unitsellprice  \\\n",
       "0 2020-05-03  clint2042  سويت حرير مزيل شعر          3        4.31958   \n",
       "\n",
       "   consumerprice  costprice   qty category subcategory manufacturer  \\\n",
       "0            9.0       3.75  24.0  اكسسوار   ازالة شعر        متنوع   \n",
       "\n",
       "  client_name location_name       c1  \n",
       "0   clint2042   Region11135  4.68042  "
      ]
     },
     "execution_count": 56,
     "metadata": {},
     "output_type": "execute_result"
    }
   ],
   "source": [
    "df4.head(1)"
   ]
  },
  {
   "cell_type": "code",
   "execution_count": 57,
   "id": "f59e4390",
   "metadata": {},
   "outputs": [],
   "source": [
    "df4 = df4.to_csv(r'C:\\Users\\abdel\\Untitled Folder\\readydata.csv')"
   ]
  },
  {
   "cell_type": "code",
   "execution_count": 58,
   "id": "8be231f8",
   "metadata": {},
   "outputs": [],
   "source": [
    "ready = pd.read_csv(r'C:\\Users\\abdel\\Untitled Folder\\readydata.csv',index_col = 0)"
   ]
  },
  {
   "cell_type": "code",
   "execution_count": 59,
   "id": "5c67fdda",
   "metadata": {},
   "outputs": [
    {
     "data": {
      "text/plain": [
       "4.954212842567776"
      ]
     },
     "execution_count": 59,
     "metadata": {},
     "output_type": "execute_result"
    }
   ],
   "source": [
    "nn = ready[ready['c1']>0]\n",
    "nn['c1'].mean()"
   ]
  },
  {
   "cell_type": "code",
   "execution_count": 60,
   "id": "eb82a201",
   "metadata": {},
   "outputs": [],
   "source": [
    "ready.loc[(ready['consumerprice']  <= ready['unitsellprice']),'consumerprice'] = ready['unitsellprice'] * 1.495"
   ]
  },
  {
   "cell_type": "code",
   "execution_count": 61,
   "id": "7f44c070",
   "metadata": {},
   "outputs": [
    {
     "data": {
      "text/html": [
       "<div>\n",
       "<style scoped>\n",
       "    .dataframe tbody tr th:only-of-type {\n",
       "        vertical-align: middle;\n",
       "    }\n",
       "\n",
       "    .dataframe tbody tr th {\n",
       "        vertical-align: top;\n",
       "    }\n",
       "\n",
       "    .dataframe thead th {\n",
       "        text-align: right;\n",
       "    }\n",
       "</style>\n",
       "<table border=\"1\" class=\"dataframe\">\n",
       "  <thead>\n",
       "    <tr style=\"text-align: right;\">\n",
       "      <th></th>\n",
       "      <th>invoicesid</th>\n",
       "      <th>unitsellprice</th>\n",
       "      <th>consumerprice</th>\n",
       "      <th>costprice</th>\n",
       "      <th>qty</th>\n",
       "      <th>c1</th>\n",
       "    </tr>\n",
       "  </thead>\n",
       "  <tbody>\n",
       "    <tr>\n",
       "      <th>count</th>\n",
       "      <td>474345.000000</td>\n",
       "      <td>474345.000000</td>\n",
       "      <td>474345.000000</td>\n",
       "      <td>474345.000000</td>\n",
       "      <td>474345.000000</td>\n",
       "      <td>474345.000000</td>\n",
       "    </tr>\n",
       "    <tr>\n",
       "      <th>mean</th>\n",
       "      <td>23959.069694</td>\n",
       "      <td>21.385665</td>\n",
       "      <td>28.299692</td>\n",
       "      <td>19.175479</td>\n",
       "      <td>8.404366</td>\n",
       "      <td>4.332097</td>\n",
       "    </tr>\n",
       "    <tr>\n",
       "      <th>std</th>\n",
       "      <td>14550.912089</td>\n",
       "      <td>30.006782</td>\n",
       "      <td>40.370001</td>\n",
       "      <td>30.217196</td>\n",
       "      <td>39.377545</td>\n",
       "      <td>5.817865</td>\n",
       "    </tr>\n",
       "    <tr>\n",
       "      <th>min</th>\n",
       "      <td>3.000000</td>\n",
       "      <td>0.000000</td>\n",
       "      <td>0.001000</td>\n",
       "      <td>-134.860016</td>\n",
       "      <td>0.250000</td>\n",
       "      <td>0.000000</td>\n",
       "    </tr>\n",
       "    <tr>\n",
       "      <th>25%</th>\n",
       "      <td>11086.000000</td>\n",
       "      <td>6.235000</td>\n",
       "      <td>8.500000</td>\n",
       "      <td>5.399889</td>\n",
       "      <td>1.000000</td>\n",
       "      <td>1.325000</td>\n",
       "    </tr>\n",
       "    <tr>\n",
       "      <th>50%</th>\n",
       "      <td>23348.000000</td>\n",
       "      <td>11.965000</td>\n",
       "      <td>15.095763</td>\n",
       "      <td>10.420588</td>\n",
       "      <td>2.000000</td>\n",
       "      <td>2.890000</td>\n",
       "    </tr>\n",
       "    <tr>\n",
       "      <th>75%</th>\n",
       "      <td>36263.000000</td>\n",
       "      <td>23.630000</td>\n",
       "      <td>30.000000</td>\n",
       "      <td>20.333000</td>\n",
       "      <td>5.000000</td>\n",
       "      <td>5.370000</td>\n",
       "    </tr>\n",
       "    <tr>\n",
       "      <th>max</th>\n",
       "      <td>50313.000000</td>\n",
       "      <td>595.040000</td>\n",
       "      <td>725.000000</td>\n",
       "      <td>8167.000000</td>\n",
       "      <td>3000.000000</td>\n",
       "      <td>172.940000</td>\n",
       "    </tr>\n",
       "  </tbody>\n",
       "</table>\n",
       "</div>"
      ],
      "text/plain": [
       "          invoicesid  unitsellprice  consumerprice      costprice  \\\n",
       "count  474345.000000  474345.000000  474345.000000  474345.000000   \n",
       "mean    23959.069694      21.385665      28.299692      19.175479   \n",
       "std     14550.912089      30.006782      40.370001      30.217196   \n",
       "min         3.000000       0.000000       0.001000    -134.860016   \n",
       "25%     11086.000000       6.235000       8.500000       5.399889   \n",
       "50%     23348.000000      11.965000      15.095763      10.420588   \n",
       "75%     36263.000000      23.630000      30.000000      20.333000   \n",
       "max     50313.000000     595.040000     725.000000    8167.000000   \n",
       "\n",
       "                 qty             c1  \n",
       "count  474345.000000  474345.000000  \n",
       "mean        8.404366       4.332097  \n",
       "std        39.377545       5.817865  \n",
       "min         0.250000       0.000000  \n",
       "25%         1.000000       1.325000  \n",
       "50%         2.000000       2.890000  \n",
       "75%         5.000000       5.370000  \n",
       "max      3000.000000     172.940000  "
      ]
     },
     "execution_count": 61,
     "metadata": {},
     "output_type": "execute_result"
    }
   ],
   "source": [
    "ready.describe()"
   ]
  },
  {
   "cell_type": "code",
   "execution_count": 62,
   "id": "36867b22",
   "metadata": {
    "scrolled": false
   },
   "outputs": [
    {
     "data": {
      "text/plain": [
       "date_            0\n",
       "clintname        0\n",
       "productname      0\n",
       "invoicesid       0\n",
       "unitsellprice    0\n",
       "consumerprice    0\n",
       "costprice        0\n",
       "qty              0\n",
       "category         0\n",
       "subcategory      0\n",
       "manufacturer     0\n",
       "client_name      0\n",
       "location_name    0\n",
       "c1               0\n",
       "dtype: int64"
      ]
     },
     "execution_count": 62,
     "metadata": {},
     "output_type": "execute_result"
    }
   ],
   "source": [
    "ready[ready[\"consumerprice\"]==0].count()"
   ]
  },
  {
   "cell_type": "markdown",
   "id": "7028ae8b",
   "metadata": {},
   "source": [
    "**evey thing is good about the consumer price now**\n",
    "**let's start a new data frame so we dont have to restart what we did "
   ]
  },
  {
   "cell_type": "code",
   "execution_count": 63,
   "id": "ef11782c",
   "metadata": {
    "scrolled": true
   },
   "outputs": [
    {
     "data": {
      "text/plain": [
       "0"
      ]
     },
     "execution_count": 63,
     "metadata": {},
     "output_type": "execute_result"
    }
   ],
   "source": [
    "ready[ready[\"consumerprice\"]==0].count()[-1]"
   ]
  },
  {
   "cell_type": "code",
   "execution_count": null,
   "id": "26444d89",
   "metadata": {},
   "outputs": [],
   "source": []
  },
  {
   "cell_type": "code",
   "execution_count": 64,
   "id": "941c414f",
   "metadata": {},
   "outputs": [
    {
     "data": {
      "text/plain": [
       "8"
      ]
     },
     "execution_count": 64,
     "metadata": {},
     "output_type": "execute_result"
    }
   ],
   "source": [
    "#df4.loc[(df4['consumerprice']  =0,'consumerprice'] = ready['unitsellprice'] * 1.495\n",
    "ready[ready[\"unitsellprice\"]==0].count()[-1]"
   ]
  },
  {
   "cell_type": "code",
   "execution_count": null,
   "id": "7c626175",
   "metadata": {
    "scrolled": true
   },
   "outputs": [],
   "source": []
  },
  {
   "cell_type": "code",
   "execution_count": 65,
   "id": "0eea64f2",
   "metadata": {
    "scrolled": true
   },
   "outputs": [
    {
     "name": "stdout",
     "output_type": "stream",
     "text": [
      "This is the loss products count '9165' ,This is the earn products  count '464998' and the percentage between them is '0.0197' .\n"
     ]
    }
   ],
   "source": [
    "#products with less selling price than the cost price\n",
    "Lossproducts =  ready[ready[\"unitsellprice\"] < ready[\"costprice\"] ].count()[-1]\n",
    "earnproducts = ready[ready[\"unitsellprice\"] > ready[\"costprice\"] ].count()[-1]\n",
    "percofearn2loss = Lossproducts/earnproducts\n",
    "print(\"This is the loss products count '{}' ,This is the earn products  count '{}' and the percentage between them is '{}' .\".format(Lossproducts , earnproducts ,(round(percofearn2loss,4))))"
   ]
  },
  {
   "cell_type": "markdown",
   "id": "6c311054",
   "metadata": {},
   "source": [
    "**Now we save the notebook again to reduce the delay time for the next steps as it's about to be ready**"
   ]
  },
  {
   "cell_type": "markdown",
   "id": "d101d2c9",
   "metadata": {},
   "source": [
    "<a id='assessing2'></a>\n",
    "## Data Assessing **2**"
   ]
  },
  {
   "cell_type": "code",
   "execution_count": 66,
   "id": "1f133c0c",
   "metadata": {},
   "outputs": [],
   "source": [
    "ready.to_csv(r'C:\\Users\\abdel\\Untitled Folder\\readydata2.csv')"
   ]
  },
  {
   "cell_type": "code",
   "execution_count": 68,
   "id": "1c123c32",
   "metadata": {},
   "outputs": [],
   "source": [
    "import pandas as pd\n",
    "import numpy as np\n",
    "import matplotlib.pyplot as plt\n",
    "import seaborn as snb\n",
    "%matplotlib inline\n",
    "data = pd.read_csv(r'C:\\Users\\abdel\\Untitled Folder\\readydata2.csv',index_col = 0)"
   ]
  },
  {
   "cell_type": "markdown",
   "id": "7b58aee0",
   "metadata": {},
   "source": [
    "**Let's preview the data one more time to know what columns we need to add**"
   ]
  },
  {
   "cell_type": "code",
   "execution_count": 69,
   "id": "00a8c148",
   "metadata": {
    "scrolled": true
   },
   "outputs": [
    {
     "data": {
      "text/html": [
       "<div>\n",
       "<style scoped>\n",
       "    .dataframe tbody tr th:only-of-type {\n",
       "        vertical-align: middle;\n",
       "    }\n",
       "\n",
       "    .dataframe tbody tr th {\n",
       "        vertical-align: top;\n",
       "    }\n",
       "\n",
       "    .dataframe thead th {\n",
       "        text-align: right;\n",
       "    }\n",
       "</style>\n",
       "<table border=\"1\" class=\"dataframe\">\n",
       "  <thead>\n",
       "    <tr style=\"text-align: right;\">\n",
       "      <th></th>\n",
       "      <th>date_</th>\n",
       "      <th>clintname</th>\n",
       "      <th>productname</th>\n",
       "      <th>invoicesid</th>\n",
       "      <th>unitsellprice</th>\n",
       "      <th>consumerprice</th>\n",
       "      <th>costprice</th>\n",
       "      <th>qty</th>\n",
       "      <th>category</th>\n",
       "      <th>subcategory</th>\n",
       "      <th>manufacturer</th>\n",
       "      <th>client_name</th>\n",
       "      <th>location_name</th>\n",
       "      <th>c1</th>\n",
       "    </tr>\n",
       "  </thead>\n",
       "  <tbody>\n",
       "    <tr>\n",
       "      <th>0</th>\n",
       "      <td>2020-05-03</td>\n",
       "      <td>clint2042</td>\n",
       "      <td>سويت حرير مزيل شعر</td>\n",
       "      <td>3</td>\n",
       "      <td>4.31958</td>\n",
       "      <td>9.0</td>\n",
       "      <td>3.750000</td>\n",
       "      <td>24.0</td>\n",
       "      <td>اكسسوار</td>\n",
       "      <td>ازالة شعر</td>\n",
       "      <td>متنوع</td>\n",
       "      <td>clint2042</td>\n",
       "      <td>Region11135</td>\n",
       "      <td>4.68042</td>\n",
       "    </tr>\n",
       "    <tr>\n",
       "      <th>1</th>\n",
       "      <td>2020-05-11</td>\n",
       "      <td>clint2042</td>\n",
       "      <td>سويت حرير مزيل شعر</td>\n",
       "      <td>1279</td>\n",
       "      <td>4.31958</td>\n",
       "      <td>9.0</td>\n",
       "      <td>3.749680</td>\n",
       "      <td>24.0</td>\n",
       "      <td>اكسسوار</td>\n",
       "      <td>ازالة شعر</td>\n",
       "      <td>متنوع</td>\n",
       "      <td>clint2042</td>\n",
       "      <td>Region11135</td>\n",
       "      <td>4.68042</td>\n",
       "    </tr>\n",
       "    <tr>\n",
       "      <th>2</th>\n",
       "      <td>2021-07-08</td>\n",
       "      <td>clint2042</td>\n",
       "      <td>افوفا سويت(بالفواكه)2قطعة للوجة والاماكن الحساسه</td>\n",
       "      <td>29867</td>\n",
       "      <td>13.19000</td>\n",
       "      <td>17.0</td>\n",
       "      <td>10.139000</td>\n",
       "      <td>1.0</td>\n",
       "      <td>اكسسوار</td>\n",
       "      <td>ازالة شعر</td>\n",
       "      <td>متنوع</td>\n",
       "      <td>clint2042</td>\n",
       "      <td>Region11135</td>\n",
       "      <td>3.81000</td>\n",
       "    </tr>\n",
       "    <tr>\n",
       "      <th>3</th>\n",
       "      <td>2021-07-08</td>\n",
       "      <td>clint2042</td>\n",
       "      <td>افوفا سويت (فلورا) 2قطعه للوجه والاماكن الحساسة</td>\n",
       "      <td>29867</td>\n",
       "      <td>13.19000</td>\n",
       "      <td>17.0</td>\n",
       "      <td>10.138800</td>\n",
       "      <td>1.0</td>\n",
       "      <td>اكسسوار</td>\n",
       "      <td>ازالة شعر</td>\n",
       "      <td>متنوع</td>\n",
       "      <td>clint2042</td>\n",
       "      <td>Region11135</td>\n",
       "      <td>3.81000</td>\n",
       "    </tr>\n",
       "    <tr>\n",
       "      <th>4</th>\n",
       "      <td>2021-07-08</td>\n",
       "      <td>clint2042</td>\n",
       "      <td>افوفا سويت (كريز)2قطعه للوجه والاماكن الحساسة</td>\n",
       "      <td>29867</td>\n",
       "      <td>13.19000</td>\n",
       "      <td>17.0</td>\n",
       "      <td>10.148022</td>\n",
       "      <td>1.0</td>\n",
       "      <td>اكسسوار</td>\n",
       "      <td>ازالة شعر</td>\n",
       "      <td>متنوع</td>\n",
       "      <td>clint2042</td>\n",
       "      <td>Region11135</td>\n",
       "      <td>3.81000</td>\n",
       "    </tr>\n",
       "  </tbody>\n",
       "</table>\n",
       "</div>"
      ],
      "text/plain": [
       "        date_  clintname                                       productname  \\\n",
       "0  2020-05-03  clint2042                                سويت حرير مزيل شعر   \n",
       "1  2020-05-11  clint2042                                سويت حرير مزيل شعر   \n",
       "2  2021-07-08  clint2042  افوفا سويت(بالفواكه)2قطعة للوجة والاماكن الحساسه   \n",
       "3  2021-07-08  clint2042   افوفا سويت (فلورا) 2قطعه للوجه والاماكن الحساسة   \n",
       "4  2021-07-08  clint2042     افوفا سويت (كريز)2قطعه للوجه والاماكن الحساسة   \n",
       "\n",
       "   invoicesid  unitsellprice  consumerprice  costprice   qty category  \\\n",
       "0           3        4.31958            9.0   3.750000  24.0  اكسسوار   \n",
       "1        1279        4.31958            9.0   3.749680  24.0  اكسسوار   \n",
       "2       29867       13.19000           17.0  10.139000   1.0  اكسسوار   \n",
       "3       29867       13.19000           17.0  10.138800   1.0  اكسسوار   \n",
       "4       29867       13.19000           17.0  10.148022   1.0  اكسسوار   \n",
       "\n",
       "  subcategory manufacturer client_name location_name       c1  \n",
       "0   ازالة شعر        متنوع   clint2042   Region11135  4.68042  \n",
       "1   ازالة شعر        متنوع   clint2042   Region11135  4.68042  \n",
       "2   ازالة شعر        متنوع   clint2042   Region11135  3.81000  \n",
       "3   ازالة شعر        متنوع   clint2042   Region11135  3.81000  \n",
       "4   ازالة شعر        متنوع   clint2042   Region11135  3.81000  "
      ]
     },
     "execution_count": 69,
     "metadata": {},
     "output_type": "execute_result"
    }
   ],
   "source": [
    "data.head()"
   ]
  },
  {
   "cell_type": "code",
   "execution_count": 70,
   "id": "1802c846",
   "metadata": {},
   "outputs": [
    {
     "name": "stdout",
     "output_type": "stream",
     "text": [
      "0 date_\n",
      "1 clintname\n",
      "2 productname\n",
      "3 invoicesid\n",
      "4 unitsellprice\n",
      "5 consumerprice\n",
      "6 costprice\n",
      "7 qty\n",
      "8 category\n",
      "9 subcategory\n",
      "10 manufacturer\n",
      "11 client_name\n",
      "12 location_name\n",
      "13 c1\n"
     ]
    }
   ],
   "source": [
    "for i, v in enumerate(data.columns):\n",
    "    print(i, v)\n"
   ]
  },
  {
   "cell_type": "markdown",
   "id": "df347680",
   "metadata": {},
   "source": [
    "## Steps"
   ]
  },
  {
   "cell_type": "markdown",
   "id": "0abb17df",
   "metadata": {},
   "source": [
    "<li>drop c1 , client_name columns & rename clintname to clientname\n",
    "   <li>   change the sell and cost prices from with 0 to 0.001 & add 0.001 to the costprice ro products with with 0 profit \n",
    "<li>add new columns ( salestotal, consumertotalsales, salesgross, consumergross, sellermarkup%, consumermarkup%, salesmargin%,  consumermargin% )  \n",
    " "
   ]
  },
  {
   "cell_type": "code",
   "execution_count": 71,
   "id": "6c99e043",
   "metadata": {},
   "outputs": [],
   "source": [
    "#drop with iloc\n",
    "#data.drop(data.iloc[:,[26,27,],inplace = True , axis = 1)\n",
    "data.drop(['c1','client_name'],inplace = True , axis = 1)\n",
    "data = data.rename(columns={'location_name':'location','clintname':'client','invoicesid':'invoiceid','productname':'product','unitsellprice':'sellprice','costprice':'cost'})"
   ]
  },
  {
   "cell_type": "code",
   "execution_count": 72,
   "id": "ea9918fe",
   "metadata": {
    "scrolled": true
   },
   "outputs": [
    {
     "data": {
      "text/html": [
       "<div>\n",
       "<style scoped>\n",
       "    .dataframe tbody tr th:only-of-type {\n",
       "        vertical-align: middle;\n",
       "    }\n",
       "\n",
       "    .dataframe tbody tr th {\n",
       "        vertical-align: top;\n",
       "    }\n",
       "\n",
       "    .dataframe thead th {\n",
       "        text-align: right;\n",
       "    }\n",
       "</style>\n",
       "<table border=\"1\" class=\"dataframe\">\n",
       "  <thead>\n",
       "    <tr style=\"text-align: right;\">\n",
       "      <th></th>\n",
       "      <th>invoiceid</th>\n",
       "      <th>sellprice</th>\n",
       "      <th>consumerprice</th>\n",
       "      <th>cost</th>\n",
       "      <th>qty</th>\n",
       "    </tr>\n",
       "  </thead>\n",
       "  <tbody>\n",
       "    <tr>\n",
       "      <th>count</th>\n",
       "      <td>474345.000000</td>\n",
       "      <td>474345.000000</td>\n",
       "      <td>474345.000000</td>\n",
       "      <td>474345.000000</td>\n",
       "      <td>474345.000000</td>\n",
       "    </tr>\n",
       "    <tr>\n",
       "      <th>mean</th>\n",
       "      <td>23959.069694</td>\n",
       "      <td>21.385665</td>\n",
       "      <td>28.299692</td>\n",
       "      <td>19.175479</td>\n",
       "      <td>8.404366</td>\n",
       "    </tr>\n",
       "    <tr>\n",
       "      <th>std</th>\n",
       "      <td>14550.912089</td>\n",
       "      <td>30.006782</td>\n",
       "      <td>40.370001</td>\n",
       "      <td>30.217196</td>\n",
       "      <td>39.377545</td>\n",
       "    </tr>\n",
       "    <tr>\n",
       "      <th>min</th>\n",
       "      <td>3.000000</td>\n",
       "      <td>0.000000</td>\n",
       "      <td>0.001000</td>\n",
       "      <td>-134.860016</td>\n",
       "      <td>0.250000</td>\n",
       "    </tr>\n",
       "    <tr>\n",
       "      <th>25%</th>\n",
       "      <td>11086.000000</td>\n",
       "      <td>6.235000</td>\n",
       "      <td>8.500000</td>\n",
       "      <td>5.399889</td>\n",
       "      <td>1.000000</td>\n",
       "    </tr>\n",
       "    <tr>\n",
       "      <th>50%</th>\n",
       "      <td>23348.000000</td>\n",
       "      <td>11.965000</td>\n",
       "      <td>15.095762</td>\n",
       "      <td>10.420588</td>\n",
       "      <td>2.000000</td>\n",
       "    </tr>\n",
       "    <tr>\n",
       "      <th>75%</th>\n",
       "      <td>36263.000000</td>\n",
       "      <td>23.630000</td>\n",
       "      <td>30.000000</td>\n",
       "      <td>20.333000</td>\n",
       "      <td>5.000000</td>\n",
       "    </tr>\n",
       "    <tr>\n",
       "      <th>max</th>\n",
       "      <td>50313.000000</td>\n",
       "      <td>595.040000</td>\n",
       "      <td>725.000000</td>\n",
       "      <td>8167.000000</td>\n",
       "      <td>3000.000000</td>\n",
       "    </tr>\n",
       "  </tbody>\n",
       "</table>\n",
       "</div>"
      ],
      "text/plain": [
       "           invoiceid      sellprice  consumerprice           cost  \\\n",
       "count  474345.000000  474345.000000  474345.000000  474345.000000   \n",
       "mean    23959.069694      21.385665      28.299692      19.175479   \n",
       "std     14550.912089      30.006782      40.370001      30.217196   \n",
       "min         3.000000       0.000000       0.001000    -134.860016   \n",
       "25%     11086.000000       6.235000       8.500000       5.399889   \n",
       "50%     23348.000000      11.965000      15.095762      10.420588   \n",
       "75%     36263.000000      23.630000      30.000000      20.333000   \n",
       "max     50313.000000     595.040000     725.000000    8167.000000   \n",
       "\n",
       "                 qty  \n",
       "count  474345.000000  \n",
       "mean        8.404366  \n",
       "std        39.377545  \n",
       "min         0.250000  \n",
       "25%         1.000000  \n",
       "50%         2.000000  \n",
       "75%         5.000000  \n",
       "max      3000.000000  "
      ]
     },
     "execution_count": 72,
     "metadata": {},
     "output_type": "execute_result"
    }
   ],
   "source": [
    "data.describe()"
   ]
  },
  {
   "cell_type": "code",
   "execution_count": 73,
   "id": "abbb8aa2",
   "metadata": {},
   "outputs": [],
   "source": [
    "data.loc[(data['sellprice'] == 0) ,'sellprice'] = data['sellprice'] + 0.001\n",
    "data.loc[(data['cost'] == 0) ,'cost'] = data['cost'] + 0.001\n",
    "data.loc[((data['cost']) - (data['sellprice'])) == 0 ,'cost'] = data['cost'] + 0.001"
   ]
  },
  {
   "cell_type": "code",
   "execution_count": 74,
   "id": "35e94d4b",
   "metadata": {},
   "outputs": [],
   "source": [
    "data['salestotal']= data['sellprice']*data['qty']\n",
    "data['consumertotalsales']= data['consumerprice']*data['qty']\n",
    "data['salesgross']= (data['sellprice']*data['qty'])-(data['cost']*data['qty'])\n",
    "data['consumergross']= (data['consumerprice']*data['qty'])-(data['sellprice']*data['qty'])"
   ]
  },
  {
   "cell_type": "code",
   "execution_count": 75,
   "id": "94548f9e",
   "metadata": {},
   "outputs": [],
   "source": [
    "data['sellermarkup%'] = (data['salesgross']/(data['cost']*data['qty']))*100\n",
    "data['consumermarkup%'] = (data['consumergross']/(data['salesgross']*data['qty']))*100"
   ]
  },
  {
   "cell_type": "code",
   "execution_count": 76,
   "id": "66f9ad20",
   "metadata": {},
   "outputs": [],
   "source": [
    "data['salesmargin%']= (data['salesgross']/data['salestotal'])*100\n",
    "data['consumermargin%']= (data['consumergross']/data['consumertotalsales'])*100"
   ]
  },
  {
   "cell_type": "code",
   "execution_count": 77,
   "id": "ad5db827",
   "metadata": {},
   "outputs": [],
   "source": [
    "#change invoiceid to object and date to datetime\n",
    "data = data.astype({\"invoiceid\": str}, errors='raise')\n",
    "data['date_'] = pd.to_datetime(data['date_'], format='%Y-%m-%d')"
   ]
  },
  {
   "cell_type": "code",
   "execution_count": 78,
   "id": "b6430866",
   "metadata": {},
   "outputs": [],
   "source": [
    "data['year'] = pd.DatetimeIndex(data['date_']).year\n",
    "data['month'] = pd.DatetimeIndex(data['date_']).month"
   ]
  },
  {
   "cell_type": "markdown",
   "id": "7bb1f897",
   "metadata": {},
   "source": [
    "**Review our data**"
   ]
  },
  {
   "cell_type": "code",
   "execution_count": 79,
   "id": "393396ac",
   "metadata": {
    "scrolled": false
   },
   "outputs": [
    {
     "data": {
      "text/html": [
       "<div>\n",
       "<style scoped>\n",
       "    .dataframe tbody tr th:only-of-type {\n",
       "        vertical-align: middle;\n",
       "    }\n",
       "\n",
       "    .dataframe tbody tr th {\n",
       "        vertical-align: top;\n",
       "    }\n",
       "\n",
       "    .dataframe thead th {\n",
       "        text-align: right;\n",
       "    }\n",
       "</style>\n",
       "<table border=\"1\" class=\"dataframe\">\n",
       "  <thead>\n",
       "    <tr style=\"text-align: right;\">\n",
       "      <th></th>\n",
       "      <th>date_</th>\n",
       "      <th>client</th>\n",
       "      <th>product</th>\n",
       "      <th>invoiceid</th>\n",
       "      <th>sellprice</th>\n",
       "      <th>consumerprice</th>\n",
       "      <th>cost</th>\n",
       "      <th>qty</th>\n",
       "      <th>category</th>\n",
       "      <th>subcategory</th>\n",
       "      <th>...</th>\n",
       "      <th>salestotal</th>\n",
       "      <th>consumertotalsales</th>\n",
       "      <th>salesgross</th>\n",
       "      <th>consumergross</th>\n",
       "      <th>sellermarkup%</th>\n",
       "      <th>consumermarkup%</th>\n",
       "      <th>salesmargin%</th>\n",
       "      <th>consumermargin%</th>\n",
       "      <th>year</th>\n",
       "      <th>month</th>\n",
       "    </tr>\n",
       "  </thead>\n",
       "  <tbody>\n",
       "    <tr>\n",
       "      <th>0</th>\n",
       "      <td>2020-05-03</td>\n",
       "      <td>clint2042</td>\n",
       "      <td>سويت حرير مزيل شعر</td>\n",
       "      <td>3</td>\n",
       "      <td>4.31958</td>\n",
       "      <td>9.0</td>\n",
       "      <td>3.750000</td>\n",
       "      <td>24.0</td>\n",
       "      <td>اكسسوار</td>\n",
       "      <td>ازالة شعر</td>\n",
       "      <td>...</td>\n",
       "      <td>103.66992</td>\n",
       "      <td>216.0</td>\n",
       "      <td>13.669920</td>\n",
       "      <td>112.33008</td>\n",
       "      <td>15.188800</td>\n",
       "      <td>34.238825</td>\n",
       "      <td>13.186004</td>\n",
       "      <td>52.004667</td>\n",
       "      <td>2020</td>\n",
       "      <td>5</td>\n",
       "    </tr>\n",
       "    <tr>\n",
       "      <th>1</th>\n",
       "      <td>2020-05-11</td>\n",
       "      <td>clint2042</td>\n",
       "      <td>سويت حرير مزيل شعر</td>\n",
       "      <td>1279</td>\n",
       "      <td>4.31958</td>\n",
       "      <td>9.0</td>\n",
       "      <td>3.749680</td>\n",
       "      <td>24.0</td>\n",
       "      <td>اكسسوار</td>\n",
       "      <td>ازالة شعر</td>\n",
       "      <td>...</td>\n",
       "      <td>103.66992</td>\n",
       "      <td>216.0</td>\n",
       "      <td>13.677593</td>\n",
       "      <td>112.33008</td>\n",
       "      <td>15.198622</td>\n",
       "      <td>34.219617</td>\n",
       "      <td>13.193406</td>\n",
       "      <td>52.004667</td>\n",
       "      <td>2020</td>\n",
       "      <td>5</td>\n",
       "    </tr>\n",
       "    <tr>\n",
       "      <th>2</th>\n",
       "      <td>2021-07-08</td>\n",
       "      <td>clint2042</td>\n",
       "      <td>افوفا سويت(بالفواكه)2قطعة للوجة والاماكن الحساسه</td>\n",
       "      <td>29867</td>\n",
       "      <td>13.19000</td>\n",
       "      <td>17.0</td>\n",
       "      <td>10.139000</td>\n",
       "      <td>1.0</td>\n",
       "      <td>اكسسوار</td>\n",
       "      <td>ازالة شعر</td>\n",
       "      <td>...</td>\n",
       "      <td>13.19000</td>\n",
       "      <td>17.0</td>\n",
       "      <td>3.051000</td>\n",
       "      <td>3.81000</td>\n",
       "      <td>30.091726</td>\n",
       "      <td>124.877087</td>\n",
       "      <td>23.131160</td>\n",
       "      <td>22.411765</td>\n",
       "      <td>2021</td>\n",
       "      <td>7</td>\n",
       "    </tr>\n",
       "    <tr>\n",
       "      <th>3</th>\n",
       "      <td>2021-07-08</td>\n",
       "      <td>clint2042</td>\n",
       "      <td>افوفا سويت (فلورا) 2قطعه للوجه والاماكن الحساسة</td>\n",
       "      <td>29867</td>\n",
       "      <td>13.19000</td>\n",
       "      <td>17.0</td>\n",
       "      <td>10.138800</td>\n",
       "      <td>1.0</td>\n",
       "      <td>اكسسوار</td>\n",
       "      <td>ازالة شعر</td>\n",
       "      <td>...</td>\n",
       "      <td>13.19000</td>\n",
       "      <td>17.0</td>\n",
       "      <td>3.051200</td>\n",
       "      <td>3.81000</td>\n",
       "      <td>30.094296</td>\n",
       "      <td>124.868890</td>\n",
       "      <td>23.132679</td>\n",
       "      <td>22.411765</td>\n",
       "      <td>2021</td>\n",
       "      <td>7</td>\n",
       "    </tr>\n",
       "    <tr>\n",
       "      <th>4</th>\n",
       "      <td>2021-07-08</td>\n",
       "      <td>clint2042</td>\n",
       "      <td>افوفا سويت (كريز)2قطعه للوجه والاماكن الحساسة</td>\n",
       "      <td>29867</td>\n",
       "      <td>13.19000</td>\n",
       "      <td>17.0</td>\n",
       "      <td>10.148022</td>\n",
       "      <td>1.0</td>\n",
       "      <td>اكسسوار</td>\n",
       "      <td>ازالة شعر</td>\n",
       "      <td>...</td>\n",
       "      <td>13.19000</td>\n",
       "      <td>17.0</td>\n",
       "      <td>3.041978</td>\n",
       "      <td>3.81000</td>\n",
       "      <td>29.976072</td>\n",
       "      <td>125.247442</td>\n",
       "      <td>23.062762</td>\n",
       "      <td>22.411765</td>\n",
       "      <td>2021</td>\n",
       "      <td>7</td>\n",
       "    </tr>\n",
       "  </tbody>\n",
       "</table>\n",
       "<p>5 rows × 22 columns</p>\n",
       "</div>"
      ],
      "text/plain": [
       "       date_     client                                           product  \\\n",
       "0 2020-05-03  clint2042                                سويت حرير مزيل شعر   \n",
       "1 2020-05-11  clint2042                                سويت حرير مزيل شعر   \n",
       "2 2021-07-08  clint2042  افوفا سويت(بالفواكه)2قطعة للوجة والاماكن الحساسه   \n",
       "3 2021-07-08  clint2042   افوفا سويت (فلورا) 2قطعه للوجه والاماكن الحساسة   \n",
       "4 2021-07-08  clint2042     افوفا سويت (كريز)2قطعه للوجه والاماكن الحساسة   \n",
       "\n",
       "  invoiceid  sellprice  consumerprice       cost   qty category subcategory  \\\n",
       "0         3    4.31958            9.0   3.750000  24.0  اكسسوار   ازالة شعر   \n",
       "1      1279    4.31958            9.0   3.749680  24.0  اكسسوار   ازالة شعر   \n",
       "2     29867   13.19000           17.0  10.139000   1.0  اكسسوار   ازالة شعر   \n",
       "3     29867   13.19000           17.0  10.138800   1.0  اكسسوار   ازالة شعر   \n",
       "4     29867   13.19000           17.0  10.148022   1.0  اكسسوار   ازالة شعر   \n",
       "\n",
       "   ... salestotal consumertotalsales  salesgross  consumergross  \\\n",
       "0  ...  103.66992              216.0   13.669920      112.33008   \n",
       "1  ...  103.66992              216.0   13.677593      112.33008   \n",
       "2  ...   13.19000               17.0    3.051000        3.81000   \n",
       "3  ...   13.19000               17.0    3.051200        3.81000   \n",
       "4  ...   13.19000               17.0    3.041978        3.81000   \n",
       "\n",
       "   sellermarkup%  consumermarkup%  salesmargin%  consumermargin%  year  month  \n",
       "0      15.188800        34.238825     13.186004        52.004667  2020      5  \n",
       "1      15.198622        34.219617     13.193406        52.004667  2020      5  \n",
       "2      30.091726       124.877087     23.131160        22.411765  2021      7  \n",
       "3      30.094296       124.868890     23.132679        22.411765  2021      7  \n",
       "4      29.976072       125.247442     23.062762        22.411765  2021      7  \n",
       "\n",
       "[5 rows x 22 columns]"
      ]
     },
     "execution_count": 79,
     "metadata": {},
     "output_type": "execute_result"
    }
   ],
   "source": [
    "data.head()"
   ]
  },
  {
   "cell_type": "markdown",
   "id": "e166a6cd",
   "metadata": {},
   "source": [
    "**Rearrange our data set**"
   ]
  },
  {
   "cell_type": "code",
   "execution_count": 80,
   "id": "2061d748",
   "metadata": {},
   "outputs": [],
   "source": [
    "data = data.iloc[:, [0,20,21,1,2,3,8,9,10,11,4,5,6,7,12,14,16,18,13,15,17,19]]"
   ]
  },
  {
   "cell_type": "code",
   "execution_count": 81,
   "id": "60f0a648",
   "metadata": {
    "scrolled": false
   },
   "outputs": [
    {
     "name": "stdout",
     "output_type": "stream",
     "text": [
      "0 date_\n",
      "1 year\n",
      "2 month\n",
      "3 client\n",
      "4 product\n",
      "5 invoiceid\n",
      "6 category\n",
      "7 subcategory\n",
      "8 manufacturer\n",
      "9 location\n",
      "10 sellprice\n",
      "11 consumerprice\n",
      "12 cost\n",
      "13 qty\n",
      "14 salestotal\n",
      "15 salesgross\n",
      "16 sellermarkup%\n",
      "17 salesmargin%\n",
      "18 consumertotalsales\n",
      "19 consumergross\n",
      "20 consumermarkup%\n",
      "21 consumermargin%\n"
     ]
    }
   ],
   "source": [
    "for i, v in enumerate(data.columns):\n",
    "    print(i, v)"
   ]
  },
  {
   "cell_type": "markdown",
   "id": "4d054b08",
   "metadata": {},
   "source": [
    "**now let's look at our final data one more time before we start our visualization**"
   ]
  },
  {
   "cell_type": "markdown",
   "id": "a7aab921",
   "metadata": {},
   "source": [
    "<a id='wrangling2'></a>\n",
    "## Data Wrangling **2**"
   ]
  },
  {
   "cell_type": "code",
   "execution_count": 82,
   "id": "c77b9fd4",
   "metadata": {},
   "outputs": [
    {
     "data": {
      "text/plain": [
       "(474345, 22)"
      ]
     },
     "execution_count": 82,
     "metadata": {},
     "output_type": "execute_result"
    }
   ],
   "source": [
    "data.shape"
   ]
  },
  {
   "cell_type": "code",
   "execution_count": 83,
   "id": "be21e4f8",
   "metadata": {},
   "outputs": [
    {
     "name": "stdout",
     "output_type": "stream",
     "text": [
      "<class 'pandas.core.frame.DataFrame'>\n",
      "Int64Index: 474345 entries, 0 to 474344\n",
      "Data columns (total 22 columns):\n",
      " #   Column              Non-Null Count   Dtype         \n",
      "---  ------              --------------   -----         \n",
      " 0   date_               474345 non-null  datetime64[ns]\n",
      " 1   year                474345 non-null  int64         \n",
      " 2   month               474345 non-null  int64         \n",
      " 3   client              474345 non-null  object        \n",
      " 4   product             474345 non-null  object        \n",
      " 5   invoiceid           474345 non-null  object        \n",
      " 6   category            474345 non-null  object        \n",
      " 7   subcategory         474345 non-null  object        \n",
      " 8   manufacturer        474345 non-null  object        \n",
      " 9   location            474345 non-null  object        \n",
      " 10  sellprice           474345 non-null  float64       \n",
      " 11  consumerprice       474345 non-null  float64       \n",
      " 12  cost                474345 non-null  float64       \n",
      " 13  qty                 474345 non-null  float64       \n",
      " 14  salestotal          474345 non-null  float64       \n",
      " 15  salesgross          474345 non-null  float64       \n",
      " 16  sellermarkup%       474345 non-null  float64       \n",
      " 17  salesmargin%        474345 non-null  float64       \n",
      " 18  consumertotalsales  474345 non-null  float64       \n",
      " 19  consumergross       474345 non-null  float64       \n",
      " 20  consumermarkup%     474345 non-null  float64       \n",
      " 21  consumermargin%     474345 non-null  float64       \n",
      "dtypes: datetime64[ns](1), float64(12), int64(2), object(7)\n",
      "memory usage: 99.4+ MB\n"
     ]
    }
   ],
   "source": [
    "data.info()"
   ]
  },
  {
   "cell_type": "code",
   "execution_count": 84,
   "id": "321b5913",
   "metadata": {},
   "outputs": [
    {
     "data": {
      "text/html": [
       "<div>\n",
       "<style scoped>\n",
       "    .dataframe tbody tr th:only-of-type {\n",
       "        vertical-align: middle;\n",
       "    }\n",
       "\n",
       "    .dataframe tbody tr th {\n",
       "        vertical-align: top;\n",
       "    }\n",
       "\n",
       "    .dataframe thead th {\n",
       "        text-align: right;\n",
       "    }\n",
       "</style>\n",
       "<table border=\"1\" class=\"dataframe\">\n",
       "  <thead>\n",
       "    <tr style=\"text-align: right;\">\n",
       "      <th></th>\n",
       "      <th>year</th>\n",
       "      <th>month</th>\n",
       "      <th>sellprice</th>\n",
       "      <th>consumerprice</th>\n",
       "      <th>cost</th>\n",
       "      <th>qty</th>\n",
       "      <th>salestotal</th>\n",
       "      <th>salesgross</th>\n",
       "      <th>sellermarkup%</th>\n",
       "      <th>salesmargin%</th>\n",
       "      <th>consumertotalsales</th>\n",
       "      <th>consumergross</th>\n",
       "      <th>consumermarkup%</th>\n",
       "      <th>consumermargin%</th>\n",
       "    </tr>\n",
       "  </thead>\n",
       "  <tbody>\n",
       "    <tr>\n",
       "      <th>count</th>\n",
       "      <td>474345.00000</td>\n",
       "      <td>474345.000000</td>\n",
       "      <td>474345.000000</td>\n",
       "      <td>474345.000000</td>\n",
       "      <td>474345.000000</td>\n",
       "      <td>474345.000000</td>\n",
       "      <td>474345.000000</td>\n",
       "      <td>474345.000000</td>\n",
       "      <td>4.743450e+05</td>\n",
       "      <td>4.743450e+05</td>\n",
       "      <td>474345.000000</td>\n",
       "      <td>474345.000000</td>\n",
       "      <td>4.743450e+05</td>\n",
       "      <td>474345.000000</td>\n",
       "    </tr>\n",
       "    <tr>\n",
       "      <th>mean</th>\n",
       "      <td>2020.75241</td>\n",
       "      <td>6.726659</td>\n",
       "      <td>21.385665</td>\n",
       "      <td>28.299692</td>\n",
       "      <td>19.175479</td>\n",
       "      <td>8.404366</td>\n",
       "      <td>48.271941</td>\n",
       "      <td>5.050833</td>\n",
       "      <td>2.015190e+02</td>\n",
       "      <td>-4.792501e+01</td>\n",
       "      <td>66.468524</td>\n",
       "      <td>18.196583</td>\n",
       "      <td>-1.235978e+05</td>\n",
       "      <td>25.695544</td>\n",
       "    </tr>\n",
       "    <tr>\n",
       "      <th>std</th>\n",
       "      <td>0.64552</td>\n",
       "      <td>3.405752</td>\n",
       "      <td>30.006782</td>\n",
       "      <td>40.370001</td>\n",
       "      <td>30.217196</td>\n",
       "      <td>39.377545</td>\n",
       "      <td>60.156582</td>\n",
       "      <td>24.314091</td>\n",
       "      <td>3.520246e+04</td>\n",
       "      <td>2.290617e+04</td>\n",
       "      <td>86.694499</td>\n",
       "      <td>30.389495</td>\n",
       "      <td>4.418624e+07</td>\n",
       "      <td>9.835770</td>\n",
       "    </tr>\n",
       "    <tr>\n",
       "      <th>min</th>\n",
       "      <td>2020.00000</td>\n",
       "      <td>1.000000</td>\n",
       "      <td>0.001000</td>\n",
       "      <td>0.001000</td>\n",
       "      <td>-134.860016</td>\n",
       "      <td>0.250000</td>\n",
       "      <td>0.001000</td>\n",
       "      <td>-8158.530000</td>\n",
       "      <td>-2.143761e+03</td>\n",
       "      <td>-1.312072e+07</td>\n",
       "      <td>0.001000</td>\n",
       "      <td>0.000000</td>\n",
       "      <td>-6.494617e+09</td>\n",
       "      <td>0.000000</td>\n",
       "    </tr>\n",
       "    <tr>\n",
       "      <th>25%</th>\n",
       "      <td>2020.00000</td>\n",
       "      <td>4.000000</td>\n",
       "      <td>6.235000</td>\n",
       "      <td>8.500000</td>\n",
       "      <td>5.399889</td>\n",
       "      <td>1.000000</td>\n",
       "      <td>16.800000</td>\n",
       "      <td>1.587653</td>\n",
       "      <td>7.578182e+00</td>\n",
       "      <td>7.047101e+00</td>\n",
       "      <td>23.000000</td>\n",
       "      <td>5.200000</td>\n",
       "      <td>5.556546e+01</td>\n",
       "      <td>18.958375</td>\n",
       "    </tr>\n",
       "    <tr>\n",
       "      <th>50%</th>\n",
       "      <td>2021.00000</td>\n",
       "      <td>7.000000</td>\n",
       "      <td>11.965000</td>\n",
       "      <td>15.095762</td>\n",
       "      <td>10.420588</td>\n",
       "      <td>2.000000</td>\n",
       "      <td>30.000000</td>\n",
       "      <td>3.116663</td>\n",
       "      <td>1.124608e+01</td>\n",
       "      <td>1.010959e+01</td>\n",
       "      <td>40.000000</td>\n",
       "      <td>9.180000</td>\n",
       "      <td>1.277548e+02</td>\n",
       "      <td>22.555556</td>\n",
       "    </tr>\n",
       "    <tr>\n",
       "      <th>75%</th>\n",
       "      <td>2021.00000</td>\n",
       "      <td>10.000000</td>\n",
       "      <td>23.630000</td>\n",
       "      <td>30.000000</td>\n",
       "      <td>20.333000</td>\n",
       "      <td>5.000000</td>\n",
       "      <td>55.080000</td>\n",
       "      <td>6.072928</td>\n",
       "      <td>1.853361e+01</td>\n",
       "      <td>1.564272e+01</td>\n",
       "      <td>75.000000</td>\n",
       "      <td>18.470000</td>\n",
       "      <td>2.614855e+02</td>\n",
       "      <td>33.110368</td>\n",
       "    </tr>\n",
       "    <tr>\n",
       "      <th>max</th>\n",
       "      <td>2022.00000</td>\n",
       "      <td>12.000000</td>\n",
       "      <td>595.040000</td>\n",
       "      <td>725.000000</td>\n",
       "      <td>8167.000000</td>\n",
       "      <td>3000.000000</td>\n",
       "      <td>3500.250000</td>\n",
       "      <td>2502.474871</td>\n",
       "      <td>1.190090e+07</td>\n",
       "      <td>1.636223e+03</td>\n",
       "      <td>5232.873750</td>\n",
       "      <td>1732.623750</td>\n",
       "      <td>1.660683e+10</td>\n",
       "      <td>99.999091</td>\n",
       "    </tr>\n",
       "  </tbody>\n",
       "</table>\n",
       "</div>"
      ],
      "text/plain": [
       "               year          month      sellprice  consumerprice  \\\n",
       "count  474345.00000  474345.000000  474345.000000  474345.000000   \n",
       "mean     2020.75241       6.726659      21.385665      28.299692   \n",
       "std         0.64552       3.405752      30.006782      40.370001   \n",
       "min      2020.00000       1.000000       0.001000       0.001000   \n",
       "25%      2020.00000       4.000000       6.235000       8.500000   \n",
       "50%      2021.00000       7.000000      11.965000      15.095762   \n",
       "75%      2021.00000      10.000000      23.630000      30.000000   \n",
       "max      2022.00000      12.000000     595.040000     725.000000   \n",
       "\n",
       "                cost            qty     salestotal     salesgross  \\\n",
       "count  474345.000000  474345.000000  474345.000000  474345.000000   \n",
       "mean       19.175479       8.404366      48.271941       5.050833   \n",
       "std        30.217196      39.377545      60.156582      24.314091   \n",
       "min      -134.860016       0.250000       0.001000   -8158.530000   \n",
       "25%         5.399889       1.000000      16.800000       1.587653   \n",
       "50%        10.420588       2.000000      30.000000       3.116663   \n",
       "75%        20.333000       5.000000      55.080000       6.072928   \n",
       "max      8167.000000    3000.000000    3500.250000    2502.474871   \n",
       "\n",
       "       sellermarkup%  salesmargin%  consumertotalsales  consumergross  \\\n",
       "count   4.743450e+05  4.743450e+05       474345.000000  474345.000000   \n",
       "mean    2.015190e+02 -4.792501e+01           66.468524      18.196583   \n",
       "std     3.520246e+04  2.290617e+04           86.694499      30.389495   \n",
       "min    -2.143761e+03 -1.312072e+07            0.001000       0.000000   \n",
       "25%     7.578182e+00  7.047101e+00           23.000000       5.200000   \n",
       "50%     1.124608e+01  1.010959e+01           40.000000       9.180000   \n",
       "75%     1.853361e+01  1.564272e+01           75.000000      18.470000   \n",
       "max     1.190090e+07  1.636223e+03         5232.873750    1732.623750   \n",
       "\n",
       "       consumermarkup%  consumermargin%  \n",
       "count     4.743450e+05    474345.000000  \n",
       "mean     -1.235978e+05        25.695544  \n",
       "std       4.418624e+07         9.835770  \n",
       "min      -6.494617e+09         0.000000  \n",
       "25%       5.556546e+01        18.958375  \n",
       "50%       1.277548e+02        22.555556  \n",
       "75%       2.614855e+02        33.110368  \n",
       "max       1.660683e+10        99.999091  "
      ]
     },
     "execution_count": 84,
     "metadata": {},
     "output_type": "execute_result"
    }
   ],
   "source": [
    "data.describe()"
   ]
  },
  {
   "cell_type": "code",
   "execution_count": 85,
   "id": "5285ad46",
   "metadata": {
    "scrolled": true
   },
   "outputs": [
    {
     "data": {
      "text/plain": [
       "date_                   609\n",
       "year                      3\n",
       "month                    12\n",
       "client                  781\n",
       "product                4148\n",
       "invoiceid             43031\n",
       "category                  3\n",
       "subcategory             137\n",
       "manufacturer             77\n",
       "location                 80\n",
       "sellprice             11099\n",
       "consumerprice          1884\n",
       "cost                  19881\n",
       "qty                     146\n",
       "salestotal            14024\n",
       "salesgross            91454\n",
       "sellermarkup%         68249\n",
       "salesmargin%          67885\n",
       "consumertotalsales     3286\n",
       "consumergross         13493\n",
       "consumermarkup%       98659\n",
       "consumermargin%       11850\n",
       "dtype: int64"
      ]
     },
     "execution_count": 85,
     "metadata": {},
     "output_type": "execute_result"
    }
   ],
   "source": [
    "data.nunique()"
   ]
  },
  {
   "cell_type": "markdown",
   "id": "0fe82e89",
   "metadata": {},
   "source": [
    "<li> so far we lost 2 dates , 117 clinet , 1074 products ,2 manufacturer , 1 category , 3 subcategories , 4074 invoice \n",
    "<li> so there are 1074 product that dont have manufacturer name , category name or subcatergory name & were sold in 4074 invoice with 117 clinet\n",
    "<li>  and 8 coulmns were added  "
   ]
  },
  {
   "cell_type": "code",
   "execution_count": 86,
   "id": "265a6919",
   "metadata": {},
   "outputs": [],
   "source": [
    "#data.to_csv(r'C:\\Users\\abdel\\Untitled Folder\\readydata3.csv')"
   ]
  },
  {
   "cell_type": "code",
   "execution_count": 87,
   "id": "c7325e6d",
   "metadata": {
    "scrolled": true
   },
   "outputs": [
    {
     "data": {
      "image/png": "[encoded data removed]",
      "text/plain": [
       "<Figure size 1008x360 with 16 Axes>"
      ]
     },
     "metadata": {
      "needs_background": "light"
     },
     "output_type": "display_data"
    }
   ],
   "source": [
    "#data overView\n",
    "data.hist(figsize=(14,5));"
   ]
  },
  {
   "cell_type": "code",
   "execution_count": 88,
   "id": "7d830607",
   "metadata": {},
   "outputs": [
    {
     "data": {
      "text/plain": [
       "اكسسوار     318541\n",
       "مستلزمات    103042\n",
       "ورقيات       52762\n",
       "Name: category, dtype: int64"
      ]
     },
     "execution_count": 88,
     "metadata": {},
     "output_type": "execute_result"
    }
   ],
   "source": [
    "data['category'].value_counts()"
   ]
  },
  {
   "cell_type": "code",
   "execution_count": 89,
   "id": "1e73bccf",
   "metadata": {},
   "outputs": [],
   "source": [
    "cosmo = data.category =='اكسسوار'\n",
    "medical = data.category =='مستلزمات'\n",
    "papers = data.category =='ورقيات'"
   ]
  },
  {
   "cell_type": "code",
   "execution_count": 90,
   "id": "da6da961",
   "metadata": {},
   "outputs": [
    {
     "data": {
      "text/plain": [
       "date_                 103042\n",
       "year                  103042\n",
       "month                 103042\n",
       "client                103042\n",
       "product               103042\n",
       "invoiceid             103042\n",
       "category              103042\n",
       "subcategory           103042\n",
       "manufacturer          103042\n",
       "location              103042\n",
       "sellprice             103042\n",
       "consumerprice         103042\n",
       "cost                  103042\n",
       "qty                   103042\n",
       "salestotal            103042\n",
       "salesgross            103042\n",
       "sellermarkup%         103042\n",
       "salesmargin%          103042\n",
       "consumertotalsales    103042\n",
       "consumergross         103042\n",
       "consumermarkup%       103042\n",
       "consumermargin%       103042\n",
       "dtype: int64"
      ]
     },
     "execution_count": 90,
     "metadata": {},
     "output_type": "execute_result"
    }
   ],
   "source": [
    "data[medical].count()"
   ]
  },
  {
   "cell_type": "code",
   "execution_count": 91,
   "id": "6f365259",
   "metadata": {},
   "outputs": [
    {
     "data": {
      "text/plain": [
       "date_                 52762\n",
       "year                  52762\n",
       "month                 52762\n",
       "client                52762\n",
       "product               52762\n",
       "invoiceid             52762\n",
       "category              52762\n",
       "subcategory           52762\n",
       "manufacturer          52762\n",
       "location              52762\n",
       "sellprice             52762\n",
       "consumerprice         52762\n",
       "cost                  52762\n",
       "qty                   52762\n",
       "salestotal            52762\n",
       "salesgross            52762\n",
       "sellermarkup%         52762\n",
       "salesmargin%          52762\n",
       "consumertotalsales    52762\n",
       "consumergross         52762\n",
       "consumermarkup%       52762\n",
       "consumermargin%       52762\n",
       "dtype: int64"
      ]
     },
     "execution_count": 91,
     "metadata": {},
     "output_type": "execute_result"
    }
   ],
   "source": [
    "data[papers].count()"
   ]
  },
  {
   "cell_type": "code",
   "execution_count": 92,
   "id": "cbf1eb8a",
   "metadata": {},
   "outputs": [
    {
     "data": {
      "text/plain": [
       "date_                 318541\n",
       "year                  318541\n",
       "month                 318541\n",
       "client                318541\n",
       "product               318541\n",
       "invoiceid             318541\n",
       "category              318541\n",
       "subcategory           318541\n",
       "manufacturer          318541\n",
       "location              318541\n",
       "sellprice             318541\n",
       "consumerprice         318541\n",
       "cost                  318541\n",
       "qty                   318541\n",
       "salestotal            318541\n",
       "salesgross            318541\n",
       "sellermarkup%         318541\n",
       "salesmargin%          318541\n",
       "consumertotalsales    318541\n",
       "consumergross         318541\n",
       "consumermarkup%       318541\n",
       "consumermargin%       318541\n",
       "dtype: int64"
      ]
     },
     "execution_count": 92,
     "metadata": {},
     "output_type": "execute_result"
    }
   ],
   "source": [
    "data[cosmo].count()"
   ]
  },
  {
   "cell_type": "code",
   "execution_count": 93,
   "id": "7f56d88d",
   "metadata": {},
   "outputs": [],
   "source": [
    "#data[cosmo].mean() , data[medical].mean() , data[papers].mean()"
   ]
  },
  {
   "cell_type": "code",
   "execution_count": 94,
   "id": "5a6cd53d",
   "metadata": {},
   "outputs": [],
   "source": [
    "year2020 = data['year'] == 2020\n",
    "year2021 = data['year'] == 2021\n",
    "year2022 = data['year'] == 2022"
   ]
  },
  {
   "cell_type": "code",
   "execution_count": null,
   "id": "0f593017",
   "metadata": {},
   "outputs": [],
   "source": [
    "def attended(data,c_name, xlabel,ylabel):\n",
    "    plt.figure(figsize=[20,6])\n",
    "    data[c_name][cosmo].hist(alpha=.5,bins=10,color= 'blue',label='cosmo')\n",
    "    data[c_name][year2022].hist(alpha=.5,bins=10,color= 'green',label='year')\n",
    "    plt.legend();\n",
    "    plt.title(f'cosmo in {c_name} compare')\n",
    "    plt.xlabel('cosmo')"
   ]
  },
  {
   "cell_type": "code",
   "execution_count": null,
   "id": "e498da40",
   "metadata": {
    "scrolled": false
   },
   "outputs": [],
   "source": [
    "   \n",
    "attended(data,'category',year2022,cosmo)    "
   ]
  },
  {
   "cell_type": "code",
   "execution_count": null,
   "id": "ddab654b",
   "metadata": {},
   "outputs": [],
   "source": [
    "def attended(df,c_name, attend):\n",
    "    plt.figure(figsize=[15,6])\n",
    "    df[c_name][cosmo].value_counts(normalize=True).plot(kind='pie',label='show_p',autopct='%1.1f%%')\n",
    "    plt.legend();\n",
    "    plt.title(f'patient and {c_name} compare');\n",
    "    plt.label(\"\")"
   ]
  },
  {
   "cell_type": "code",
   "execution_count": null,
   "id": "41a15667",
   "metadata": {},
   "outputs": [],
   "source": [
    "attended(df,'category',cosmo)  "
   ]
  },
  {
   "cell_type": "code",
   "execution_count": 97,
   "id": "e92acafb",
   "metadata": {},
   "outputs": [
    {
     "name": "stdout",
     "output_type": "stream",
     "text": [
      "0 date_\n",
      "1 year\n",
      "2 month\n",
      "3 client\n",
      "4 product\n",
      "5 invoiceid\n",
      "6 category\n",
      "7 subcategory\n",
      "8 manufacturer\n",
      "9 location\n",
      "10 sellprice\n",
      "11 consumerprice\n",
      "12 cost\n",
      "13 qty\n",
      "14 salestotal\n",
      "15 salesgross\n",
      "16 sellermarkup%\n",
      "17 salesmargin%\n",
      "18 consumertotalsales\n",
      "19 consumergross\n",
      "20 consumermarkup%\n",
      "21 consumermargin%\n"
     ]
    }
   ],
   "source": [
    "for i, v in enumerate(data.columns):\n",
    "    print(i, v)\n"
   ]
  },
  {
   "cell_type": "code",
   "execution_count": 103,
   "id": "dce50487",
   "metadata": {},
   "outputs": [
    {
     "data": {
      "text/plain": [
       "<AxesSubplot:xlabel='category', ylabel='salesgross'>"
      ]
     },
     "execution_count": 103,
     "metadata": {},
     "output_type": "execute_result"
    },
    {
     "data": {
      "image/png": "[encoded data removed]",
      "text/plain": [
       "<Figure size 432x288 with 1 Axes>"
      ]
     },
     "metadata": {
      "needs_background": "light"
     },
     "output_type": "display_data"
    }
   ],
   "source": [
    "snb.barplot(data=data, x=\"category\",y='salesgross')"
   ]
  },
  {
   "cell_type": "code",
   "execution_count": null,
   "id": "0250aefe",
   "metadata": {},
   "outputs": [
    {
     "ename": "TypeError",
     "evalue": "Neither the `x` nor `y` variable appears to be numeric.",
     "output_type": "error",
     "traceback": [
      "\u001b[1;31m---------------------------------------------------------------------------\u001b[0m",
      "\u001b[1;31mTypeError\u001b[0m                                 Traceback (most recent call last)",
      "\u001b[1;32m~\\AppData\\Local\\Temp/ipykernel_9252/3896244412.py\u001b[0m in \u001b[0;36m<module>\u001b[1;34m\u001b[0m\n\u001b[0;32m      6\u001b[0m \u001b[1;31m# Plot the crashes where alcohol was involved\u001b[0m\u001b[1;33m\u001b[0m\u001b[1;33m\u001b[0m\u001b[0m\n\u001b[0;32m      7\u001b[0m \u001b[0msnb\u001b[0m\u001b[1;33m.\u001b[0m\u001b[0mset_color_codes\u001b[0m\u001b[1;33m(\u001b[0m\u001b[1;34m\"muted\"\u001b[0m\u001b[1;33m)\u001b[0m\u001b[1;33m\u001b[0m\u001b[1;33m\u001b[0m\u001b[0m\n\u001b[1;32m----> 8\u001b[1;33m snb.barplot(x=\"subcategory\", y=\"category\", data=data,\n\u001b[0m\u001b[0;32m      9\u001b[0m             label=\"Alcohol-involved\", color=\"b\")\n\u001b[0;32m     10\u001b[0m \u001b[1;33m\u001b[0m\u001b[0m\n",
      "\u001b[1;32mC:\\ProgramData\\Anaconda3\\lib\\site-packages\\seaborn\\_decorators.py\u001b[0m in \u001b[0;36minner_f\u001b[1;34m(*args, **kwargs)\u001b[0m\n\u001b[0;32m     44\u001b[0m             )\n\u001b[0;32m     45\u001b[0m         \u001b[0mkwargs\u001b[0m\u001b[1;33m.\u001b[0m\u001b[0mupdate\u001b[0m\u001b[1;33m(\u001b[0m\u001b[1;33m{\u001b[0m\u001b[0mk\u001b[0m\u001b[1;33m:\u001b[0m \u001b[0marg\u001b[0m \u001b[1;32mfor\u001b[0m \u001b[0mk\u001b[0m\u001b[1;33m,\u001b[0m \u001b[0marg\u001b[0m \u001b[1;32min\u001b[0m \u001b[0mzip\u001b[0m\u001b[1;33m(\u001b[0m\u001b[0msig\u001b[0m\u001b[1;33m.\u001b[0m\u001b[0mparameters\u001b[0m\u001b[1;33m,\u001b[0m \u001b[0margs\u001b[0m\u001b[1;33m)\u001b[0m\u001b[1;33m}\u001b[0m\u001b[1;33m)\u001b[0m\u001b[1;33m\u001b[0m\u001b[1;33m\u001b[0m\u001b[0m\n\u001b[1;32m---> 46\u001b[1;33m         \u001b[1;32mreturn\u001b[0m \u001b[0mf\u001b[0m\u001b[1;33m(\u001b[0m\u001b[1;33m**\u001b[0m\u001b[0mkwargs\u001b[0m\u001b[1;33m)\u001b[0m\u001b[1;33m\u001b[0m\u001b[1;33m\u001b[0m\u001b[0m\n\u001b[0m\u001b[0;32m     47\u001b[0m     \u001b[1;32mreturn\u001b[0m \u001b[0minner_f\u001b[0m\u001b[1;33m\u001b[0m\u001b[1;33m\u001b[0m\u001b[0m\n\u001b[0;32m     48\u001b[0m \u001b[1;33m\u001b[0m\u001b[0m\n",
      "\u001b[1;32mC:\\ProgramData\\Anaconda3\\lib\\site-packages\\seaborn\\categorical.py\u001b[0m in \u001b[0;36mbarplot\u001b[1;34m(x, y, hue, data, order, hue_order, estimator, ci, n_boot, units, seed, orient, color, palette, saturation, errcolor, errwidth, capsize, dodge, ax, **kwargs)\u001b[0m\n\u001b[0;32m   3180\u001b[0m ):\n\u001b[0;32m   3181\u001b[0m \u001b[1;33m\u001b[0m\u001b[0m\n\u001b[1;32m-> 3182\u001b[1;33m     plotter = _BarPlotter(x, y, hue, data, order, hue_order,\n\u001b[0m\u001b[0;32m   3183\u001b[0m                           \u001b[0mestimator\u001b[0m\u001b[1;33m,\u001b[0m \u001b[0mci\u001b[0m\u001b[1;33m,\u001b[0m \u001b[0mn_boot\u001b[0m\u001b[1;33m,\u001b[0m \u001b[0munits\u001b[0m\u001b[1;33m,\u001b[0m \u001b[0mseed\u001b[0m\u001b[1;33m,\u001b[0m\u001b[1;33m\u001b[0m\u001b[1;33m\u001b[0m\u001b[0m\n\u001b[0;32m   3184\u001b[0m                           \u001b[0morient\u001b[0m\u001b[1;33m,\u001b[0m \u001b[0mcolor\u001b[0m\u001b[1;33m,\u001b[0m \u001b[0mpalette\u001b[0m\u001b[1;33m,\u001b[0m \u001b[0msaturation\u001b[0m\u001b[1;33m,\u001b[0m\u001b[1;33m\u001b[0m\u001b[1;33m\u001b[0m\u001b[0m\n",
      "\u001b[1;32mC:\\ProgramData\\Anaconda3\\lib\\site-packages\\seaborn\\categorical.py\u001b[0m in \u001b[0;36m__init__\u001b[1;34m(self, x, y, hue, data, order, hue_order, estimator, ci, n_boot, units, seed, orient, color, palette, saturation, errcolor, errwidth, capsize, dodge)\u001b[0m\n\u001b[0;32m   1582\u001b[0m                  errwidth, capsize, dodge):\n\u001b[0;32m   1583\u001b[0m         \u001b[1;34m\"\"\"Initialize the plotter.\"\"\"\u001b[0m\u001b[1;33m\u001b[0m\u001b[1;33m\u001b[0m\u001b[0m\n\u001b[1;32m-> 1584\u001b[1;33m         self.establish_variables(x, y, hue, data, orient,\n\u001b[0m\u001b[0;32m   1585\u001b[0m                                  order, hue_order, units)\n\u001b[0;32m   1586\u001b[0m         \u001b[0mself\u001b[0m\u001b[1;33m.\u001b[0m\u001b[0mestablish_colors\u001b[0m\u001b[1;33m(\u001b[0m\u001b[0mcolor\u001b[0m\u001b[1;33m,\u001b[0m \u001b[0mpalette\u001b[0m\u001b[1;33m,\u001b[0m \u001b[0msaturation\u001b[0m\u001b[1;33m)\u001b[0m\u001b[1;33m\u001b[0m\u001b[1;33m\u001b[0m\u001b[0m\n",
      "\u001b[1;32mC:\\ProgramData\\Anaconda3\\lib\\site-packages\\seaborn\\categorical.py\u001b[0m in \u001b[0;36mestablish_variables\u001b[1;34m(self, x, y, hue, data, orient, order, hue_order, units)\u001b[0m\n\u001b[0;32m    154\u001b[0m \u001b[1;33m\u001b[0m\u001b[0m\n\u001b[0;32m    155\u001b[0m             \u001b[1;31m# Figure out the plotting orientation\u001b[0m\u001b[1;33m\u001b[0m\u001b[1;33m\u001b[0m\u001b[0m\n\u001b[1;32m--> 156\u001b[1;33m             orient = infer_orient(\n\u001b[0m\u001b[0;32m    157\u001b[0m                 \u001b[0mx\u001b[0m\u001b[1;33m,\u001b[0m \u001b[0my\u001b[0m\u001b[1;33m,\u001b[0m \u001b[0morient\u001b[0m\u001b[1;33m,\u001b[0m \u001b[0mrequire_numeric\u001b[0m\u001b[1;33m=\u001b[0m\u001b[0mself\u001b[0m\u001b[1;33m.\u001b[0m\u001b[0mrequire_numeric\u001b[0m\u001b[1;33m\u001b[0m\u001b[1;33m\u001b[0m\u001b[0m\n\u001b[0;32m    158\u001b[0m             )\n",
      "\u001b[1;32mC:\\ProgramData\\Anaconda3\\lib\\site-packages\\seaborn\\_core.py\u001b[0m in \u001b[0;36minfer_orient\u001b[1;34m(x, y, orient, require_numeric)\u001b[0m\n\u001b[0;32m   1350\u001b[0m     \u001b[1;32melif\u001b[0m \u001b[0mrequire_numeric\u001b[0m \u001b[1;32mand\u001b[0m \u001b[1;34m\"numeric\"\u001b[0m \u001b[1;32mnot\u001b[0m \u001b[1;32min\u001b[0m \u001b[1;33m(\u001b[0m\u001b[0mx_type\u001b[0m\u001b[1;33m,\u001b[0m \u001b[0my_type\u001b[0m\u001b[1;33m)\u001b[0m\u001b[1;33m:\u001b[0m\u001b[1;33m\u001b[0m\u001b[1;33m\u001b[0m\u001b[0m\n\u001b[0;32m   1351\u001b[0m         \u001b[0merr\u001b[0m \u001b[1;33m=\u001b[0m \u001b[1;34m\"Neither the `x` nor `y` variable appears to be numeric.\"\u001b[0m\u001b[1;33m\u001b[0m\u001b[1;33m\u001b[0m\u001b[0m\n\u001b[1;32m-> 1352\u001b[1;33m         \u001b[1;32mraise\u001b[0m \u001b[0mTypeError\u001b[0m\u001b[1;33m(\u001b[0m\u001b[0merr\u001b[0m\u001b[1;33m)\u001b[0m\u001b[1;33m\u001b[0m\u001b[1;33m\u001b[0m\u001b[0m\n\u001b[0m\u001b[0;32m   1353\u001b[0m \u001b[1;33m\u001b[0m\u001b[0m\n\u001b[0;32m   1354\u001b[0m     \u001b[1;32melse\u001b[0m\u001b[1;33m:\u001b[0m\u001b[1;33m\u001b[0m\u001b[1;33m\u001b[0m\u001b[0m\n",
      "\u001b[1;31mTypeError\u001b[0m: Neither the `x` nor `y` variable appears to be numeric."
     ]
    }
   ],
   "source": [
    "# Plot the total crashes\n",
    "snb.set_color_codes(\"pastel\")\n",
    "snb.barplot(x=\"salesgross\", y=\"salestotal\", data=data,\n",
    "            label=\"Total\", color=\"b\")\n",
    "\n",
    "# Plot the crashes where alcohol was involved\n",
    "snb.set_color_codes(\"muted\")\n",
    "snb.barplot(x=\"subcategory\", y=\"category\", data=data,\n",
    "            label=\"Alcohol-involved\", color=\"b\")\n",
    "\n",
    "# Add a legend and informative axis label\n",
    "ax.legend(ncol=2, loc=\"lower right\", frameon=True)\n",
    "ax.set(xlim=(0, 24), ylabel=\"\",\n",
    "       xlabel=\"Automobile collisions per billion miles\")\n",
    "snb.despine(left=True, bottom=True)"
   ]
  },
  {
   "cell_type": "code",
   "execution_count": null,
   "id": "e747c175",
   "metadata": {},
   "outputs": [],
   "source": []
  }
 ],
 "metadata": {
  "kernelspec": {
   "display_name": "Python 3 (ipykernel)",
   "language": "python",
   "name": "python3"
  },
  "language_info": {
   "codemirror_mode": {
    "name": "ipython",
    "version": 3
   },
   "file_extension": ".py",
   "mimetype": "text/x-python",
   "name": "python",
   "nbconvert_exporter": "python",
   "pygments_lexer": "ipython3",
   "version": "3.9.7"
  },
  "widgets": {
   "application/vnd.jupyter.widget-state+json": {
    "state": {},
    "version_major": 2,
    "version_minor": 0
   }
  }
 },
 "nbformat": 4,
 "nbformat_minor": 5
}
